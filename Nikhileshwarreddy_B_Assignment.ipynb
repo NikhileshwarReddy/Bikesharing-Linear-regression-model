{
 "cells": [
  {
   "cell_type": "code",
   "execution_count": 1,
   "metadata": {},
   "outputs": [],
   "source": [
    "import pandas as pd\n",
    "import numpy as np\n",
    "import seaborn as sns\n",
    "import matplotlib.pyplot as plt\n",
    "from datetime import datetime \n",
    "#importing the required libraries to perform EDA"
   ]
  },
  {
   "cell_type": "code",
   "execution_count": 2,
   "metadata": {},
   "outputs": [],
   "source": [
    "df = pd.read_csv('day.csv')\n",
    "#Loading the acquired data - Data Sourcing"
   ]
  },
  {
   "cell_type": "code",
   "execution_count": 3,
   "metadata": {},
   "outputs": [
    {
     "data": {
      "text/html": [
       "<div>\n",
       "<style scoped>\n",
       "    .dataframe tbody tr th:only-of-type {\n",
       "        vertical-align: middle;\n",
       "    }\n",
       "\n",
       "    .dataframe tbody tr th {\n",
       "        vertical-align: top;\n",
       "    }\n",
       "\n",
       "    .dataframe thead th {\n",
       "        text-align: right;\n",
       "    }\n",
       "</style>\n",
       "<table border=\"1\" class=\"dataframe\">\n",
       "  <thead>\n",
       "    <tr style=\"text-align: right;\">\n",
       "      <th></th>\n",
       "      <th>instant</th>\n",
       "      <th>dteday</th>\n",
       "      <th>season</th>\n",
       "      <th>yr</th>\n",
       "      <th>mnth</th>\n",
       "      <th>holiday</th>\n",
       "      <th>weekday</th>\n",
       "      <th>workingday</th>\n",
       "      <th>weathersit</th>\n",
       "      <th>temp</th>\n",
       "      <th>atemp</th>\n",
       "      <th>hum</th>\n",
       "      <th>windspeed</th>\n",
       "      <th>casual</th>\n",
       "      <th>registered</th>\n",
       "      <th>cnt</th>\n",
       "    </tr>\n",
       "  </thead>\n",
       "  <tbody>\n",
       "    <tr>\n",
       "      <th>0</th>\n",
       "      <td>1</td>\n",
       "      <td>01-01-2018</td>\n",
       "      <td>1</td>\n",
       "      <td>0</td>\n",
       "      <td>1</td>\n",
       "      <td>0</td>\n",
       "      <td>6</td>\n",
       "      <td>0</td>\n",
       "      <td>2</td>\n",
       "      <td>14.110847</td>\n",
       "      <td>18.18125</td>\n",
       "      <td>80.5833</td>\n",
       "      <td>10.749882</td>\n",
       "      <td>331</td>\n",
       "      <td>654</td>\n",
       "      <td>985</td>\n",
       "    </tr>\n",
       "    <tr>\n",
       "      <th>1</th>\n",
       "      <td>2</td>\n",
       "      <td>02-01-2018</td>\n",
       "      <td>1</td>\n",
       "      <td>0</td>\n",
       "      <td>1</td>\n",
       "      <td>0</td>\n",
       "      <td>0</td>\n",
       "      <td>0</td>\n",
       "      <td>2</td>\n",
       "      <td>14.902598</td>\n",
       "      <td>17.68695</td>\n",
       "      <td>69.6087</td>\n",
       "      <td>16.652113</td>\n",
       "      <td>131</td>\n",
       "      <td>670</td>\n",
       "      <td>801</td>\n",
       "    </tr>\n",
       "    <tr>\n",
       "      <th>2</th>\n",
       "      <td>3</td>\n",
       "      <td>03-01-2018</td>\n",
       "      <td>1</td>\n",
       "      <td>0</td>\n",
       "      <td>1</td>\n",
       "      <td>0</td>\n",
       "      <td>1</td>\n",
       "      <td>1</td>\n",
       "      <td>1</td>\n",
       "      <td>8.050924</td>\n",
       "      <td>9.47025</td>\n",
       "      <td>43.7273</td>\n",
       "      <td>16.636703</td>\n",
       "      <td>120</td>\n",
       "      <td>1229</td>\n",
       "      <td>1349</td>\n",
       "    </tr>\n",
       "    <tr>\n",
       "      <th>3</th>\n",
       "      <td>4</td>\n",
       "      <td>04-01-2018</td>\n",
       "      <td>1</td>\n",
       "      <td>0</td>\n",
       "      <td>1</td>\n",
       "      <td>0</td>\n",
       "      <td>2</td>\n",
       "      <td>1</td>\n",
       "      <td>1</td>\n",
       "      <td>8.200000</td>\n",
       "      <td>10.60610</td>\n",
       "      <td>59.0435</td>\n",
       "      <td>10.739832</td>\n",
       "      <td>108</td>\n",
       "      <td>1454</td>\n",
       "      <td>1562</td>\n",
       "    </tr>\n",
       "    <tr>\n",
       "      <th>4</th>\n",
       "      <td>5</td>\n",
       "      <td>05-01-2018</td>\n",
       "      <td>1</td>\n",
       "      <td>0</td>\n",
       "      <td>1</td>\n",
       "      <td>0</td>\n",
       "      <td>3</td>\n",
       "      <td>1</td>\n",
       "      <td>1</td>\n",
       "      <td>9.305237</td>\n",
       "      <td>11.46350</td>\n",
       "      <td>43.6957</td>\n",
       "      <td>12.522300</td>\n",
       "      <td>82</td>\n",
       "      <td>1518</td>\n",
       "      <td>1600</td>\n",
       "    </tr>\n",
       "  </tbody>\n",
       "</table>\n",
       "</div>"
      ],
      "text/plain": [
       "   instant      dteday  season  yr  mnth  holiday  weekday  workingday  \\\n",
       "0        1  01-01-2018       1   0     1        0        6           0   \n",
       "1        2  02-01-2018       1   0     1        0        0           0   \n",
       "2        3  03-01-2018       1   0     1        0        1           1   \n",
       "3        4  04-01-2018       1   0     1        0        2           1   \n",
       "4        5  05-01-2018       1   0     1        0        3           1   \n",
       "\n",
       "   weathersit       temp     atemp      hum  windspeed  casual  registered  \\\n",
       "0           2  14.110847  18.18125  80.5833  10.749882     331         654   \n",
       "1           2  14.902598  17.68695  69.6087  16.652113     131         670   \n",
       "2           1   8.050924   9.47025  43.7273  16.636703     120        1229   \n",
       "3           1   8.200000  10.60610  59.0435  10.739832     108        1454   \n",
       "4           1   9.305237  11.46350  43.6957  12.522300      82        1518   \n",
       "\n",
       "    cnt  \n",
       "0   985  \n",
       "1   801  \n",
       "2  1349  \n",
       "3  1562  \n",
       "4  1600  "
      ]
     },
     "execution_count": 3,
     "metadata": {},
     "output_type": "execute_result"
    }
   ],
   "source": [
    "df.head()\n",
    "#Viewing Data to confirm that data is loaded"
   ]
  },
  {
   "cell_type": "markdown",
   "metadata": {},
   "source": [
    "Now we will do data cleaning actions such as \n",
    "1) Fixing rows and columns \\\n",
    "2) Checking the nulls \\\n",
    "3) Dropping unnecessary columns \\\n",
    "4) Standardising the missing values \\\n",
    "5) Fixing outliers etc "
   ]
  },
  {
   "cell_type": "code",
   "execution_count": 4,
   "metadata": {},
   "outputs": [
    {
     "name": "stdout",
     "output_type": "stream",
     "text": [
      "<class 'pandas.core.frame.DataFrame'>\n",
      "RangeIndex: 730 entries, 0 to 729\n",
      "Data columns (total 16 columns):\n",
      " #   Column      Non-Null Count  Dtype  \n",
      "---  ------      --------------  -----  \n",
      " 0   instant     730 non-null    int64  \n",
      " 1   dteday      730 non-null    object \n",
      " 2   season      730 non-null    int64  \n",
      " 3   yr          730 non-null    int64  \n",
      " 4   mnth        730 non-null    int64  \n",
      " 5   holiday     730 non-null    int64  \n",
      " 6   weekday     730 non-null    int64  \n",
      " 7   workingday  730 non-null    int64  \n",
      " 8   weathersit  730 non-null    int64  \n",
      " 9   temp        730 non-null    float64\n",
      " 10  atemp       730 non-null    float64\n",
      " 11  hum         730 non-null    float64\n",
      " 12  windspeed   730 non-null    float64\n",
      " 13  casual      730 non-null    int64  \n",
      " 14  registered  730 non-null    int64  \n",
      " 15  cnt         730 non-null    int64  \n",
      "dtypes: float64(4), int64(11), object(1)\n",
      "memory usage: 91.4+ KB\n"
     ]
    }
   ],
   "source": [
    "df.info()"
   ]
  },
  {
   "cell_type": "markdown",
   "metadata": {},
   "source": [
    "1) Above we can see that all the columns belong to Non Null category so no need to check for nulls again \\\n",
    "2) As we can see all the data types match the type it is designed for except dtetime \\\n",
    "3) we will convert that column in to date time format and extract the necessary columns \\\n",
    "4) Names of the columns are not standardised we will rename it in to more readable format \\\n",
    "5) Instant column is basically the serial numbers so I think we don't need in the coming steps we will conisder whether it's useful or not and drop it "
   ]
  },
  {
   "cell_type": "code",
   "execution_count": 5,
   "metadata": {},
   "outputs": [
    {
     "data": {
      "text/plain": [
       "instant       0\n",
       "dteday        0\n",
       "season        0\n",
       "yr            0\n",
       "mnth          0\n",
       "holiday       0\n",
       "weekday       0\n",
       "workingday    0\n",
       "weathersit    0\n",
       "temp          0\n",
       "atemp         0\n",
       "hum           0\n",
       "windspeed     0\n",
       "casual        0\n",
       "registered    0\n",
       "cnt           0\n",
       "dtype: int64"
      ]
     },
     "execution_count": 5,
     "metadata": {},
     "output_type": "execute_result"
    }
   ],
   "source": [
    "df.isna().sum()\n",
    "# This confirms there are no null values in the dataframe"
   ]
  },
  {
   "cell_type": "code",
   "execution_count": 6,
   "metadata": {},
   "outputs": [],
   "source": [
    "df.rename(columns={'dteday':'Date','season':'Season','yr':'Year','mnth':'Month','holiday':'Holiday_During_WorkingDay','weekday':'Weekday','workingday':'Workingday','weathersit':'Weather_Situation','temp':'Temperature','atemp':'Actual_Temperature','hum':'Humidity','windspeed':'Windspeed','casual':'Casual_Users','registered':'Registered_Users','cnt':'Total_Count'},inplace=True)\n",
    "#Renaming the columns"
   ]
  },
  {
   "cell_type": "code",
   "execution_count": 7,
   "metadata": {},
   "outputs": [
    {
     "data": {
      "text/plain": [
       "3    188\n",
       "2    184\n",
       "1    180\n",
       "4    178\n",
       "Name: Season, dtype: int64"
      ]
     },
     "execution_count": 7,
     "metadata": {},
     "output_type": "execute_result"
    }
   ],
   "source": [
    "df['Season'].value_counts()"
   ]
  },
  {
   "cell_type": "code",
   "execution_count": 8,
   "metadata": {},
   "outputs": [
    {
     "data": {
      "text/html": [
       "<div>\n",
       "<style scoped>\n",
       "    .dataframe tbody tr th:only-of-type {\n",
       "        vertical-align: middle;\n",
       "    }\n",
       "\n",
       "    .dataframe tbody tr th {\n",
       "        vertical-align: top;\n",
       "    }\n",
       "\n",
       "    .dataframe thead th {\n",
       "        text-align: right;\n",
       "    }\n",
       "</style>\n",
       "<table border=\"1\" class=\"dataframe\">\n",
       "  <thead>\n",
       "    <tr style=\"text-align: right;\">\n",
       "      <th></th>\n",
       "      <th>instant</th>\n",
       "      <th>Date</th>\n",
       "      <th>Season</th>\n",
       "      <th>Year</th>\n",
       "      <th>Month</th>\n",
       "      <th>Holiday_During_WorkingDay</th>\n",
       "      <th>Weekday</th>\n",
       "      <th>Workingday</th>\n",
       "      <th>Weather_Situation</th>\n",
       "      <th>Temperature</th>\n",
       "      <th>Actual_Temperature</th>\n",
       "      <th>Humidity</th>\n",
       "      <th>Windspeed</th>\n",
       "      <th>Casual_Users</th>\n",
       "      <th>Registered_Users</th>\n",
       "      <th>Total_Count</th>\n",
       "    </tr>\n",
       "  </thead>\n",
       "  <tbody>\n",
       "    <tr>\n",
       "      <th>0</th>\n",
       "      <td>1</td>\n",
       "      <td>01-01-2018</td>\n",
       "      <td>1</td>\n",
       "      <td>0</td>\n",
       "      <td>1</td>\n",
       "      <td>0</td>\n",
       "      <td>6</td>\n",
       "      <td>0</td>\n",
       "      <td>2</td>\n",
       "      <td>14.110847</td>\n",
       "      <td>18.18125</td>\n",
       "      <td>80.5833</td>\n",
       "      <td>10.749882</td>\n",
       "      <td>331</td>\n",
       "      <td>654</td>\n",
       "      <td>985</td>\n",
       "    </tr>\n",
       "    <tr>\n",
       "      <th>1</th>\n",
       "      <td>2</td>\n",
       "      <td>02-01-2018</td>\n",
       "      <td>1</td>\n",
       "      <td>0</td>\n",
       "      <td>1</td>\n",
       "      <td>0</td>\n",
       "      <td>0</td>\n",
       "      <td>0</td>\n",
       "      <td>2</td>\n",
       "      <td>14.902598</td>\n",
       "      <td>17.68695</td>\n",
       "      <td>69.6087</td>\n",
       "      <td>16.652113</td>\n",
       "      <td>131</td>\n",
       "      <td>670</td>\n",
       "      <td>801</td>\n",
       "    </tr>\n",
       "    <tr>\n",
       "      <th>2</th>\n",
       "      <td>3</td>\n",
       "      <td>03-01-2018</td>\n",
       "      <td>1</td>\n",
       "      <td>0</td>\n",
       "      <td>1</td>\n",
       "      <td>0</td>\n",
       "      <td>1</td>\n",
       "      <td>1</td>\n",
       "      <td>1</td>\n",
       "      <td>8.050924</td>\n",
       "      <td>9.47025</td>\n",
       "      <td>43.7273</td>\n",
       "      <td>16.636703</td>\n",
       "      <td>120</td>\n",
       "      <td>1229</td>\n",
       "      <td>1349</td>\n",
       "    </tr>\n",
       "    <tr>\n",
       "      <th>3</th>\n",
       "      <td>4</td>\n",
       "      <td>04-01-2018</td>\n",
       "      <td>1</td>\n",
       "      <td>0</td>\n",
       "      <td>1</td>\n",
       "      <td>0</td>\n",
       "      <td>2</td>\n",
       "      <td>1</td>\n",
       "      <td>1</td>\n",
       "      <td>8.200000</td>\n",
       "      <td>10.60610</td>\n",
       "      <td>59.0435</td>\n",
       "      <td>10.739832</td>\n",
       "      <td>108</td>\n",
       "      <td>1454</td>\n",
       "      <td>1562</td>\n",
       "    </tr>\n",
       "    <tr>\n",
       "      <th>4</th>\n",
       "      <td>5</td>\n",
       "      <td>05-01-2018</td>\n",
       "      <td>1</td>\n",
       "      <td>0</td>\n",
       "      <td>1</td>\n",
       "      <td>0</td>\n",
       "      <td>3</td>\n",
       "      <td>1</td>\n",
       "      <td>1</td>\n",
       "      <td>9.305237</td>\n",
       "      <td>11.46350</td>\n",
       "      <td>43.6957</td>\n",
       "      <td>12.522300</td>\n",
       "      <td>82</td>\n",
       "      <td>1518</td>\n",
       "      <td>1600</td>\n",
       "    </tr>\n",
       "  </tbody>\n",
       "</table>\n",
       "</div>"
      ],
      "text/plain": [
       "   instant        Date  Season  Year  Month  Holiday_During_WorkingDay  \\\n",
       "0        1  01-01-2018       1     0      1                          0   \n",
       "1        2  02-01-2018       1     0      1                          0   \n",
       "2        3  03-01-2018       1     0      1                          0   \n",
       "3        4  04-01-2018       1     0      1                          0   \n",
       "4        5  05-01-2018       1     0      1                          0   \n",
       "\n",
       "   Weekday  Workingday  Weather_Situation  Temperature  Actual_Temperature  \\\n",
       "0        6           0                  2    14.110847            18.18125   \n",
       "1        0           0                  2    14.902598            17.68695   \n",
       "2        1           1                  1     8.050924             9.47025   \n",
       "3        2           1                  1     8.200000            10.60610   \n",
       "4        3           1                  1     9.305237            11.46350   \n",
       "\n",
       "   Humidity  Windspeed  Casual_Users  Registered_Users  Total_Count  \n",
       "0   80.5833  10.749882           331               654          985  \n",
       "1   69.6087  16.652113           131               670          801  \n",
       "2   43.7273  16.636703           120              1229         1349  \n",
       "3   59.0435  10.739832           108              1454         1562  \n",
       "4   43.6957  12.522300            82              1518         1600  "
      ]
     },
     "execution_count": 8,
     "metadata": {},
     "output_type": "execute_result"
    }
   ],
   "source": [
    "# In the above block we renamed the entire columns in to more understandable and readable format lets see the change\n",
    "df.head()\n",
    "#Date is better understandable and readable than dteday , and it's thesame case with other columns"
   ]
  },
  {
   "cell_type": "code",
   "execution_count": 9,
   "metadata": {},
   "outputs": [],
   "source": [
    "df['Date'] = pd.to_datetime(df['Date'])"
   ]
  },
  {
   "cell_type": "code",
   "execution_count": 10,
   "metadata": {},
   "outputs": [],
   "source": [
    "df['Year'] = pd.DatetimeIndex(df['Date']).year\n",
    "\n",
    "df['Month'] = pd.DatetimeIndex(df['Date']).month"
   ]
  },
  {
   "cell_type": "code",
   "execution_count": 11,
   "metadata": {},
   "outputs": [],
   "source": [
    "df.drop(['instant','Date','Holiday_During_WorkingDay','Casual_Users','Registered_Users',],axis=1,inplace=True)"
   ]
  },
  {
   "cell_type": "code",
   "execution_count": 12,
   "metadata": {},
   "outputs": [
    {
     "data": {
      "text/html": [
       "<div>\n",
       "<style scoped>\n",
       "    .dataframe tbody tr th:only-of-type {\n",
       "        vertical-align: middle;\n",
       "    }\n",
       "\n",
       "    .dataframe tbody tr th {\n",
       "        vertical-align: top;\n",
       "    }\n",
       "\n",
       "    .dataframe thead th {\n",
       "        text-align: right;\n",
       "    }\n",
       "</style>\n",
       "<table border=\"1\" class=\"dataframe\">\n",
       "  <thead>\n",
       "    <tr style=\"text-align: right;\">\n",
       "      <th></th>\n",
       "      <th>Season</th>\n",
       "      <th>Year</th>\n",
       "      <th>Month</th>\n",
       "      <th>Weekday</th>\n",
       "      <th>Workingday</th>\n",
       "      <th>Weather_Situation</th>\n",
       "      <th>Temperature</th>\n",
       "      <th>Actual_Temperature</th>\n",
       "      <th>Humidity</th>\n",
       "      <th>Windspeed</th>\n",
       "      <th>Total_Count</th>\n",
       "    </tr>\n",
       "  </thead>\n",
       "  <tbody>\n",
       "    <tr>\n",
       "      <th>0</th>\n",
       "      <td>1</td>\n",
       "      <td>2018</td>\n",
       "      <td>1</td>\n",
       "      <td>6</td>\n",
       "      <td>0</td>\n",
       "      <td>2</td>\n",
       "      <td>14.110847</td>\n",
       "      <td>18.18125</td>\n",
       "      <td>80.5833</td>\n",
       "      <td>10.749882</td>\n",
       "      <td>985</td>\n",
       "    </tr>\n",
       "    <tr>\n",
       "      <th>1</th>\n",
       "      <td>1</td>\n",
       "      <td>2018</td>\n",
       "      <td>2</td>\n",
       "      <td>0</td>\n",
       "      <td>0</td>\n",
       "      <td>2</td>\n",
       "      <td>14.902598</td>\n",
       "      <td>17.68695</td>\n",
       "      <td>69.6087</td>\n",
       "      <td>16.652113</td>\n",
       "      <td>801</td>\n",
       "    </tr>\n",
       "    <tr>\n",
       "      <th>2</th>\n",
       "      <td>1</td>\n",
       "      <td>2018</td>\n",
       "      <td>3</td>\n",
       "      <td>1</td>\n",
       "      <td>1</td>\n",
       "      <td>1</td>\n",
       "      <td>8.050924</td>\n",
       "      <td>9.47025</td>\n",
       "      <td>43.7273</td>\n",
       "      <td>16.636703</td>\n",
       "      <td>1349</td>\n",
       "    </tr>\n",
       "    <tr>\n",
       "      <th>3</th>\n",
       "      <td>1</td>\n",
       "      <td>2018</td>\n",
       "      <td>4</td>\n",
       "      <td>2</td>\n",
       "      <td>1</td>\n",
       "      <td>1</td>\n",
       "      <td>8.200000</td>\n",
       "      <td>10.60610</td>\n",
       "      <td>59.0435</td>\n",
       "      <td>10.739832</td>\n",
       "      <td>1562</td>\n",
       "    </tr>\n",
       "    <tr>\n",
       "      <th>4</th>\n",
       "      <td>1</td>\n",
       "      <td>2018</td>\n",
       "      <td>5</td>\n",
       "      <td>3</td>\n",
       "      <td>1</td>\n",
       "      <td>1</td>\n",
       "      <td>9.305237</td>\n",
       "      <td>11.46350</td>\n",
       "      <td>43.6957</td>\n",
       "      <td>12.522300</td>\n",
       "      <td>1600</td>\n",
       "    </tr>\n",
       "  </tbody>\n",
       "</table>\n",
       "</div>"
      ],
      "text/plain": [
       "   Season  Year  Month  Weekday  Workingday  Weather_Situation  Temperature  \\\n",
       "0       1  2018      1        6           0                  2    14.110847   \n",
       "1       1  2018      2        0           0                  2    14.902598   \n",
       "2       1  2018      3        1           1                  1     8.050924   \n",
       "3       1  2018      4        2           1                  1     8.200000   \n",
       "4       1  2018      5        3           1                  1     9.305237   \n",
       "\n",
       "   Actual_Temperature  Humidity  Windspeed  Total_Count  \n",
       "0            18.18125   80.5833  10.749882          985  \n",
       "1            17.68695   69.6087  16.652113          801  \n",
       "2             9.47025   43.7273  16.636703         1349  \n",
       "3            10.60610   59.0435  10.739832         1562  \n",
       "4            11.46350   43.6957  12.522300         1600  "
      ]
     },
     "execution_count": 12,
     "metadata": {},
     "output_type": "execute_result"
    }
   ],
   "source": [
    "df.head()\n",
    "# As we can see the instant column is dropped and the data is below"
   ]
  },
  {
   "cell_type": "code",
   "execution_count": 13,
   "metadata": {},
   "outputs": [],
   "source": [
    "# Converting the Season column values into categorical variables because it will be easy to analyze 1:spring, 2:summer, 3:fall, 4:winter\n",
    "def season(x):\n",
    "    if x==1:\n",
    "        return 'spring'\n",
    "    elif x==2:\n",
    "        return 'summer'\n",
    "    elif x==3:\n",
    "        return 'fall'\n",
    "    else:\n",
    "        return 'winter'\n",
    "\n",
    "df['Season'] = df['Season'].apply(season)\n"
   ]
  },
  {
   "cell_type": "code",
   "execution_count": 14,
   "metadata": {},
   "outputs": [],
   "source": [
    "# Converting the Weathersituaton column values into categorical variables because it will be easy to determine importance of variables\n",
    "def Weathersituaton(x):\n",
    "    if x==1:\n",
    "        return 'Clear'\n",
    "    elif x==2:\n",
    "        return 'Misty'\n",
    "    else:\n",
    "        return 'Snowy'\n",
    "\n",
    "df['Weather_Situation'] = df['Weather_Situation'].apply(Weathersituaton)\n",
    "\n",
    "# As you can see that we replaced them with categorical variables"
   ]
  },
  {
   "cell_type": "code",
   "execution_count": 15,
   "metadata": {},
   "outputs": [],
   "source": [
    "# Converting the Workingday column values into categorical variables because it will be easy to determine importance of variables\n",
    "def Week_day(x):\n",
    "    if x==0:\n",
    "        return 'Sunday'\n",
    "    elif x==1:\n",
    "        return 'Monday'\n",
    "    elif x==2:\n",
    "        return 'Tuesday'\n",
    "    elif x==3:\n",
    "        return 'Wednesday'\n",
    "    elif x==4:\n",
    "        return 'Thursday'\n",
    "    elif x==5:\n",
    "        return 'Friday'\n",
    "    else:\n",
    "        return 'Saturday'\n",
    "\n",
    "df['Weekday'] = df['Weekday'].apply(Week_day)\n",
    "\n",
    "# As you can see that we replaced them with categorical variables and it will be easy do determine few of the things during analysis"
   ]
  },
  {
   "cell_type": "code",
   "execution_count": 16,
   "metadata": {},
   "outputs": [],
   "source": [
    "# Converting the Workingday column values into categorical variables because it will be easy to determine importance of variables\n",
    "def Working_Day(x):\n",
    "    if x==1:\n",
    "        return 'Working day'\n",
    "    else:\n",
    "        return 'Holiday'\n",
    "\n",
    "df['Workingday'] = df['Workingday'].apply(Working_Day)\n"
   ]
  },
  {
   "cell_type": "code",
   "execution_count": 17,
   "metadata": {},
   "outputs": [
    {
     "data": {
      "text/html": [
       "<div>\n",
       "<style scoped>\n",
       "    .dataframe tbody tr th:only-of-type {\n",
       "        vertical-align: middle;\n",
       "    }\n",
       "\n",
       "    .dataframe tbody tr th {\n",
       "        vertical-align: top;\n",
       "    }\n",
       "\n",
       "    .dataframe thead th {\n",
       "        text-align: right;\n",
       "    }\n",
       "</style>\n",
       "<table border=\"1\" class=\"dataframe\">\n",
       "  <thead>\n",
       "    <tr style=\"text-align: right;\">\n",
       "      <th></th>\n",
       "      <th>Season</th>\n",
       "      <th>Year</th>\n",
       "      <th>Month</th>\n",
       "      <th>Weekday</th>\n",
       "      <th>Workingday</th>\n",
       "      <th>Weather_Situation</th>\n",
       "      <th>Temperature</th>\n",
       "      <th>Actual_Temperature</th>\n",
       "      <th>Humidity</th>\n",
       "      <th>Windspeed</th>\n",
       "      <th>Total_Count</th>\n",
       "    </tr>\n",
       "  </thead>\n",
       "  <tbody>\n",
       "    <tr>\n",
       "      <th>0</th>\n",
       "      <td>spring</td>\n",
       "      <td>2018</td>\n",
       "      <td>Jan</td>\n",
       "      <td>Saturday</td>\n",
       "      <td>Holiday</td>\n",
       "      <td>Misty</td>\n",
       "      <td>14.110847</td>\n",
       "      <td>18.18125</td>\n",
       "      <td>80.5833</td>\n",
       "      <td>10.749882</td>\n",
       "      <td>985</td>\n",
       "    </tr>\n",
       "    <tr>\n",
       "      <th>1</th>\n",
       "      <td>spring</td>\n",
       "      <td>2018</td>\n",
       "      <td>Feb</td>\n",
       "      <td>Sunday</td>\n",
       "      <td>Holiday</td>\n",
       "      <td>Misty</td>\n",
       "      <td>14.902598</td>\n",
       "      <td>17.68695</td>\n",
       "      <td>69.6087</td>\n",
       "      <td>16.652113</td>\n",
       "      <td>801</td>\n",
       "    </tr>\n",
       "    <tr>\n",
       "      <th>2</th>\n",
       "      <td>spring</td>\n",
       "      <td>2018</td>\n",
       "      <td>Mar</td>\n",
       "      <td>Monday</td>\n",
       "      <td>Working day</td>\n",
       "      <td>Clear</td>\n",
       "      <td>8.050924</td>\n",
       "      <td>9.47025</td>\n",
       "      <td>43.7273</td>\n",
       "      <td>16.636703</td>\n",
       "      <td>1349</td>\n",
       "    </tr>\n",
       "    <tr>\n",
       "      <th>3</th>\n",
       "      <td>spring</td>\n",
       "      <td>2018</td>\n",
       "      <td>Apr</td>\n",
       "      <td>Tuesday</td>\n",
       "      <td>Working day</td>\n",
       "      <td>Clear</td>\n",
       "      <td>8.200000</td>\n",
       "      <td>10.60610</td>\n",
       "      <td>59.0435</td>\n",
       "      <td>10.739832</td>\n",
       "      <td>1562</td>\n",
       "    </tr>\n",
       "    <tr>\n",
       "      <th>4</th>\n",
       "      <td>spring</td>\n",
       "      <td>2018</td>\n",
       "      <td>May</td>\n",
       "      <td>Wednesday</td>\n",
       "      <td>Working day</td>\n",
       "      <td>Clear</td>\n",
       "      <td>9.305237</td>\n",
       "      <td>11.46350</td>\n",
       "      <td>43.6957</td>\n",
       "      <td>12.522300</td>\n",
       "      <td>1600</td>\n",
       "    </tr>\n",
       "  </tbody>\n",
       "</table>\n",
       "</div>"
      ],
      "text/plain": [
       "   Season  Year Month    Weekday   Workingday Weather_Situation  Temperature  \\\n",
       "0  spring  2018   Jan   Saturday      Holiday             Misty    14.110847   \n",
       "1  spring  2018   Feb     Sunday      Holiday             Misty    14.902598   \n",
       "2  spring  2018   Mar     Monday  Working day             Clear     8.050924   \n",
       "3  spring  2018   Apr    Tuesday  Working day             Clear     8.200000   \n",
       "4  spring  2018   May  Wednesday  Working day             Clear     9.305237   \n",
       "\n",
       "   Actual_Temperature  Humidity  Windspeed  Total_Count  \n",
       "0            18.18125   80.5833  10.749882          985  \n",
       "1            17.68695   69.6087  16.652113          801  \n",
       "2             9.47025   43.7273  16.636703         1349  \n",
       "3            10.60610   59.0435  10.739832         1562  \n",
       "4            11.46350   43.6957  12.522300         1600  "
      ]
     },
     "execution_count": 17,
     "metadata": {},
     "output_type": "execute_result"
    }
   ],
   "source": [
    "change = {1:'Jan',2:'Feb',3:'Mar',4:'Apr',5:'May',6:'June',7:'July',8:'Aug',9:'Sep',10:'Oct',11:'Nov',12:'Dec'}\n",
    "df['Month'] = df['Month'].map(change)\n",
    "df.head()"
   ]
  },
  {
   "cell_type": "code",
   "execution_count": 18,
   "metadata": {},
   "outputs": [
    {
     "data": {
      "text/html": [
       "<div>\n",
       "<style scoped>\n",
       "    .dataframe tbody tr th:only-of-type {\n",
       "        vertical-align: middle;\n",
       "    }\n",
       "\n",
       "    .dataframe tbody tr th {\n",
       "        vertical-align: top;\n",
       "    }\n",
       "\n",
       "    .dataframe thead th {\n",
       "        text-align: right;\n",
       "    }\n",
       "</style>\n",
       "<table border=\"1\" class=\"dataframe\">\n",
       "  <thead>\n",
       "    <tr style=\"text-align: right;\">\n",
       "      <th></th>\n",
       "      <th>Season</th>\n",
       "      <th>Year</th>\n",
       "      <th>Month</th>\n",
       "      <th>Weekday</th>\n",
       "      <th>Workingday</th>\n",
       "      <th>Weather_Situation</th>\n",
       "      <th>Temperature</th>\n",
       "      <th>Actual_Temperature</th>\n",
       "      <th>Humidity</th>\n",
       "      <th>Windspeed</th>\n",
       "      <th>Total_Count</th>\n",
       "    </tr>\n",
       "  </thead>\n",
       "  <tbody>\n",
       "    <tr>\n",
       "      <th>0</th>\n",
       "      <td>spring</td>\n",
       "      <td>0</td>\n",
       "      <td>Jan</td>\n",
       "      <td>Saturday</td>\n",
       "      <td>Holiday</td>\n",
       "      <td>Misty</td>\n",
       "      <td>14.110847</td>\n",
       "      <td>18.18125</td>\n",
       "      <td>80.5833</td>\n",
       "      <td>10.749882</td>\n",
       "      <td>985</td>\n",
       "    </tr>\n",
       "    <tr>\n",
       "      <th>1</th>\n",
       "      <td>spring</td>\n",
       "      <td>0</td>\n",
       "      <td>Feb</td>\n",
       "      <td>Sunday</td>\n",
       "      <td>Holiday</td>\n",
       "      <td>Misty</td>\n",
       "      <td>14.902598</td>\n",
       "      <td>17.68695</td>\n",
       "      <td>69.6087</td>\n",
       "      <td>16.652113</td>\n",
       "      <td>801</td>\n",
       "    </tr>\n",
       "    <tr>\n",
       "      <th>2</th>\n",
       "      <td>spring</td>\n",
       "      <td>0</td>\n",
       "      <td>Mar</td>\n",
       "      <td>Monday</td>\n",
       "      <td>Working day</td>\n",
       "      <td>Clear</td>\n",
       "      <td>8.050924</td>\n",
       "      <td>9.47025</td>\n",
       "      <td>43.7273</td>\n",
       "      <td>16.636703</td>\n",
       "      <td>1349</td>\n",
       "    </tr>\n",
       "    <tr>\n",
       "      <th>3</th>\n",
       "      <td>spring</td>\n",
       "      <td>0</td>\n",
       "      <td>Apr</td>\n",
       "      <td>Tuesday</td>\n",
       "      <td>Working day</td>\n",
       "      <td>Clear</td>\n",
       "      <td>8.200000</td>\n",
       "      <td>10.60610</td>\n",
       "      <td>59.0435</td>\n",
       "      <td>10.739832</td>\n",
       "      <td>1562</td>\n",
       "    </tr>\n",
       "    <tr>\n",
       "      <th>4</th>\n",
       "      <td>spring</td>\n",
       "      <td>0</td>\n",
       "      <td>May</td>\n",
       "      <td>Wednesday</td>\n",
       "      <td>Working day</td>\n",
       "      <td>Clear</td>\n",
       "      <td>9.305237</td>\n",
       "      <td>11.46350</td>\n",
       "      <td>43.6957</td>\n",
       "      <td>12.522300</td>\n",
       "      <td>1600</td>\n",
       "    </tr>\n",
       "  </tbody>\n",
       "</table>\n",
       "</div>"
      ],
      "text/plain": [
       "   Season  Year Month    Weekday   Workingday Weather_Situation  Temperature  \\\n",
       "0  spring     0   Jan   Saturday      Holiday             Misty    14.110847   \n",
       "1  spring     0   Feb     Sunday      Holiday             Misty    14.902598   \n",
       "2  spring     0   Mar     Monday  Working day             Clear     8.050924   \n",
       "3  spring     0   Apr    Tuesday  Working day             Clear     8.200000   \n",
       "4  spring     0   May  Wednesday  Working day             Clear     9.305237   \n",
       "\n",
       "   Actual_Temperature  Humidity  Windspeed  Total_Count  \n",
       "0            18.18125   80.5833  10.749882          985  \n",
       "1            17.68695   69.6087  16.652113          801  \n",
       "2             9.47025   43.7273  16.636703         1349  \n",
       "3            10.60610   59.0435  10.739832         1562  \n",
       "4            11.46350   43.6957  12.522300         1600  "
      ]
     },
     "execution_count": 18,
     "metadata": {},
     "output_type": "execute_result"
    }
   ],
   "source": [
    "chang = {2019 :1, 2018:0}\n",
    "df['Year'] = df['Year'].map(chang)\n",
    "df.head()"
   ]
  },
  {
   "cell_type": "markdown",
   "metadata": {},
   "source": [
    "# UNI VARIATE ANALYSIS"
   ]
  },
  {
   "cell_type": "code",
   "execution_count": 19,
   "metadata": {},
   "outputs": [
    {
     "data": {
      "text/plain": [
       "count    730.000000\n",
       "mean      20.319259\n",
       "std        7.506729\n",
       "min        2.424346\n",
       "25%       13.811885\n",
       "50%       20.465826\n",
       "75%       26.880615\n",
       "max       35.328347\n",
       "Name: Temperature, dtype: float64"
      ]
     },
     "execution_count": 19,
     "metadata": {},
     "output_type": "execute_result"
    }
   ],
   "source": [
    "df['Temperature'].describe()"
   ]
  },
  {
   "cell_type": "code",
   "execution_count": 20,
   "metadata": {},
   "outputs": [
    {
     "data": {
      "image/png": "[encoded data removed]",
      "text/plain": [
       "<Figure size 432x288 with 1 Axes>"
      ]
     },
     "metadata": {
      "needs_background": "light"
     },
     "output_type": "display_data"
    }
   ],
   "source": [
    "sns.boxplot(data=df['Temperature'],color='red')\n",
    "plt.title('Temperature - Boxplot')\n",
    "plt.ylabel('Temperature in Celsius',)\n",
    "plt.show()\n",
    "#observation\n",
    "# As we can see there are no outliers\n",
    "# The mean temperature is around 14-26 degrees in celsius"
   ]
  },
  {
   "cell_type": "code",
   "execution_count": 21,
   "metadata": {},
   "outputs": [
    {
     "data": {
      "text/plain": [
       "count    730.000000\n",
       "mean      23.726322\n",
       "std        8.150308\n",
       "min        3.953480\n",
       "25%       16.889713\n",
       "50%       24.368225\n",
       "75%       30.445775\n",
       "max       42.044800\n",
       "Name: Actual_Temperature, dtype: float64"
      ]
     },
     "execution_count": 21,
     "metadata": {},
     "output_type": "execute_result"
    }
   ],
   "source": [
    "df['Actual_Temperature'].describe()"
   ]
  },
  {
   "cell_type": "code",
   "execution_count": 22,
   "metadata": {},
   "outputs": [
    {
     "data": {
      "image/png": "[encoded data removed]",
      "text/plain": [
       "<Figure size 432x288 with 1 Axes>"
      ]
     },
     "metadata": {
      "needs_background": "light"
     },
     "output_type": "display_data"
    }
   ],
   "source": [
    "sns.boxplot(data=df['Actual_Temperature'],color='skyblue')\n",
    "plt.title('Actual_Temperature - Boxplot')\n",
    "plt.ylabel('Actual_Temperature in Celsius')\n",
    "plt.show()\n",
    "#observation\n",
    "# As we can see there are no outliers\n",
    "# The mean temperature is around 16-30 degrees in celsius\n",
    "# There is a variation between Temperature and Actual_temperature"
   ]
  },
  {
   "cell_type": "code",
   "execution_count": 23,
   "metadata": {},
   "outputs": [
    {
     "data": {
      "text/plain": [
       "count    730.000000\n",
       "mean      62.765175\n",
       "std       14.237589\n",
       "min        0.000000\n",
       "25%       52.000000\n",
       "50%       62.625000\n",
       "75%       72.989575\n",
       "max       97.250000\n",
       "Name: Humidity, dtype: float64"
      ]
     },
     "execution_count": 23,
     "metadata": {},
     "output_type": "execute_result"
    }
   ],
   "source": [
    "df['Humidity'].describe()"
   ]
  },
  {
   "cell_type": "code",
   "execution_count": 24,
   "metadata": {},
   "outputs": [
    {
     "data": {
      "image/png": "[encoded data removed]",
      "text/plain": [
       "<Figure size 432x288 with 1 Axes>"
      ]
     },
     "metadata": {
      "needs_background": "light"
     },
     "output_type": "display_data"
    }
   ],
   "source": [
    "sns.boxplot(data=df['Humidity'],color='green')\n",
    "plt.title('Humidity - Boxplot')\n",
    "plt.ylabel('Humidity')\n",
    "plt.show()\n",
    "#observation\n",
    "# As we can see there are 2 outliers below the lower threshold\n",
    "# The mean Humidity is around 60 "
   ]
  },
  {
   "cell_type": "code",
   "execution_count": 25,
   "metadata": {},
   "outputs": [],
   "source": [
    "# now we will remove all the outliers by taking less than 19\n",
    "df=df[df['Humidity']>19]"
   ]
  },
  {
   "cell_type": "code",
   "execution_count": 26,
   "metadata": {},
   "outputs": [
    {
     "data": {
      "image/png": "[encoded data removed]",
      "text/plain": [
       "<Figure size 432x288 with 1 Axes>"
      ]
     },
     "metadata": {
      "needs_background": "light"
     },
     "output_type": "display_data"
    }
   ],
   "source": [
    "sns.boxplot(data=df['Humidity'],color='green')\n",
    "plt.title('Humidity - Boxplot')\n",
    "plt.ylabel('Humidity')\n",
    "plt.show()\n",
    "#observation\n",
    "# as you can see the outliers has been treated"
   ]
  },
  {
   "cell_type": "code",
   "execution_count": 27,
   "metadata": {},
   "outputs": [
    {
     "data": {
      "text/plain": [
       "count    728.000000\n",
       "mean      12.727880\n",
       "std        5.139840\n",
       "min        1.500244\n",
       "25%        9.031466\n",
       "50%       12.125057\n",
       "75%       15.624735\n",
       "max       29.584721\n",
       "Name: Windspeed, dtype: float64"
      ]
     },
     "execution_count": 27,
     "metadata": {},
     "output_type": "execute_result"
    }
   ],
   "source": [
    "df['Windspeed'].describe()"
   ]
  },
  {
   "cell_type": "code",
   "execution_count": 28,
   "metadata": {},
   "outputs": [
    {
     "data": {
      "image/png": "[encoded data removed]",
      "text/plain": [
       "<Figure size 432x288 with 1 Axes>"
      ]
     },
     "metadata": {
      "needs_background": "light"
     },
     "output_type": "display_data"
    }
   ],
   "source": [
    "sns.boxplot(data=df['Windspeed'],color='skyblue')\n",
    "plt.title('Windspeed - Boxplot')\n",
    "plt.ylabel('Windspeed')\n",
    "plt.show()\n",
    "#observation\n",
    "# As we can see there are no outliers\n",
    "# Mean windspeed lies between 10-15\n",
    "# There are some values above higher threshold but they are not outliers"
   ]
  },
  {
   "cell_type": "markdown",
   "metadata": {},
   "source": [
    "# SEGMENTED UNIVARIATE ANALYSIS"
   ]
  },
  {
   "cell_type": "code",
   "execution_count": 29,
   "metadata": {},
   "outputs": [
    {
     "data": {
      "image/png": "[encoded data removed]",
      "text/plain": [
       "<Figure size 1440x720 with 1 Axes>"
      ]
     },
     "metadata": {
      "needs_background": "light"
     },
     "output_type": "display_data"
    }
   ],
   "source": [
    "plt.figure(figsize=(20,10))\n",
    "sns.set_style('darkgrid')\n",
    "sns.histplot(x = df['Weekday'],hue=df['Weather_Situation'],palette='Blues_r',edgecolor='black',multiple='dodge')\n",
    "plt.title('Weekdays vs Weather situation')\n",
    "plt.xlabel('Weekdays',fontsize = 14)\n",
    "plt.show()\n",
    "#observation\n",
    "# As you can see there is a more clear weather during every day through out the data\n"
   ]
  },
  {
   "cell_type": "code",
   "execution_count": 30,
   "metadata": {},
   "outputs": [
    {
     "data": {
      "image/png": "[encoded data removed]",
      "text/plain": [
       "<Figure size 1440x576 with 1 Axes>"
      ]
     },
     "metadata": {},
     "output_type": "display_data"
    }
   ],
   "source": [
    "plt.figure(figsize=(20,8))\n",
    "sns.histplot(x = df['Month'],hue=df['Weather_Situation'],palette='autumn_r',edgecolor='black',multiple='dodge')\n",
    "plt.title('Months vs Weather situation')\n",
    "plt.xlabel('Months',fontsize = 14)\n",
    "plt.xticks(np.arange(1,13,1))\n",
    "plt.show()\n",
    "#observation\n",
    "# We can see that here also clear/cloudy weather dominates all over the months"
   ]
  },
  {
   "cell_type": "code",
   "execution_count": 31,
   "metadata": {},
   "outputs": [
    {
     "data": {
      "image/png": "[encoded data removed]",
      "text/plain": [
       "<Figure size 720x576 with 1 Axes>"
      ]
     },
     "metadata": {},
     "output_type": "display_data"
    }
   ],
   "source": [
    "plt.figure(figsize=(10,8))\n",
    "sns.histplot(x = df['Year'],hue=df['Weather_Situation'],palette='icefire',edgecolor='black',multiple='dodge')\n",
    "plt.title('Years vs Weather situation')\n",
    "plt.xlabel('Years',fontsize = 14)\n",
    "plt.show()\n",
    "#observation\n",
    "# when compared everywhere snowy weather is way less"
   ]
  },
  {
   "cell_type": "code",
   "execution_count": 32,
   "metadata": {},
   "outputs": [
    {
     "data": {
      "image/png": "[encoded data removed]",
      "text/plain": [
       "<Figure size 720x576 with 1 Axes>"
      ]
     },
     "metadata": {},
     "output_type": "display_data"
    }
   ],
   "source": [
    "plt.figure(figsize=(10,8))\n",
    "sns.histplot(hue= df['Season'],x=df['Month'],palette='winter',edgecolor='black',multiple='dodge')\n",
    "plt.title('Months vs Weather situation')\n",
    "plt.xlabel('Months',fontsize = 14)\n",
    "plt.xticks(np.arange(1,13,1))\n",
    "plt.show()\n",
    "#observation\n",
    "# from 1-3 months it is spring season\n",
    "# from 3-6 months it is summer season\n",
    "# from 6-10 months it is fall season\n",
    "# from 10-12 months it is winter season"
   ]
  },
  {
   "cell_type": "code",
   "execution_count": 33,
   "metadata": {},
   "outputs": [
    {
     "data": {
      "image/png": "[encoded data removed]",
      "text/plain": [
       "<Figure size 720x576 with 1 Axes>"
      ]
     },
     "metadata": {},
     "output_type": "display_data"
    }
   ],
   "source": [
    "plt.figure(figsize=(10,8))\n",
    "sns.histplot(hue= df['Season'],x=df['Humidity'],palette='winter',edgecolor='black',multiple='dodge')\n",
    "plt.title('Months vs Weather situation')\n",
    "plt.xlabel('Months',fontsize = 14)\n",
    "plt.show()\n",
    "#observation"
   ]
  },
  {
   "cell_type": "markdown",
   "metadata": {},
   "source": [
    "# BI VARIATE ANALYSIS"
   ]
  },
  {
   "cell_type": "code",
   "execution_count": 34,
   "metadata": {},
   "outputs": [
    {
     "data": {
      "image/png": "[encoded data removed]",
      "text/plain": [
       "<Figure size 1080x432 with 1 Axes>"
      ]
     },
     "metadata": {},
     "output_type": "display_data"
    }
   ],
   "source": [
    "plt.figure(figsize=(15,6))\n",
    "sns.boxplot(data = df,y='Temperature', x='Weather_Situation',palette='Blues')\n",
    "plt.title('Temperature vs Weather Situation')\n",
    "plt.ylabel('Temperature',fontsize = 14)\n",
    "plt.xlabel('Weather Situation',fontsize = 14)\n",
    "plt.show()\n",
    "#observation\n",
    "# Snowy weather has been of the shortest duration amon all of them \n",
    "# the mean temperature of clear/cloudy weather is higher than all of them"
   ]
  },
  {
   "cell_type": "code",
   "execution_count": 35,
   "metadata": {},
   "outputs": [
    {
     "data": {
      "image/png": "[encoded data removed]",
      "text/plain": [
       "<Figure size 1080x432 with 1 Axes>"
      ]
     },
     "metadata": {},
     "output_type": "display_data"
    }
   ],
   "source": [
    "plt.figure(figsize=(15,6))\n",
    "sns.boxplot(data = df,y='Actual_Temperature', x='Weather_Situation',palette='Blues')\n",
    "plt.title('Actual Temperature vs Weather Situation')\n",
    "plt.ylabel('Actual Temperature',fontsize = 14)\n",
    "plt.xlabel('Weather Situation',fontsize = 14)\n",
    "plt.show()\n",
    "#observation\n",
    "# when compared to the predicted temperature , Actual temperature has seen a steady increase in all three categories\n",
    "# even the higher and lower threshold increased for all the three categories"
   ]
  },
  {
   "cell_type": "code",
   "execution_count": 36,
   "metadata": {},
   "outputs": [
    {
     "data": {
      "image/png": "[encoded data removed]",
      "text/plain": [
       "<Figure size 1080x432 with 1 Axes>"
      ]
     },
     "metadata": {},
     "output_type": "display_data"
    }
   ],
   "source": [
    "plt.figure(figsize=(15,6))\n",
    "sns.boxplot(data = df,y='Humidity', x='Weather_Situation',palette='Blues')\n",
    "plt.title('Humidity vs Weather Situation')\n",
    "plt.ylabel('Humidity',fontsize = 14)\n",
    "plt.xlabel('Weather Situation',fontsize = 14)\n",
    "plt.show()\n",
    "#observation\n",
    "# As you can see there is some data below the lower thresh hold but I choose to keep it for linear regression model\n",
    "# Humidity is way higher in snowy weather than misty and clear weather"
   ]
  },
  {
   "cell_type": "code",
   "execution_count": 37,
   "metadata": {},
   "outputs": [
    {
     "data": {
      "image/png": "[encoded data removed]",
      "text/plain": [
       "<Figure size 1080x432 with 1 Axes>"
      ]
     },
     "metadata": {},
     "output_type": "display_data"
    }
   ],
   "source": [
    "plt.figure(figsize=(15,6))\n",
    "sns.boxplot(data = df,y='Windspeed', x='Weather_Situation',palette='Blues')\n",
    "plt.title('Windspeed vs Weather Situation')\n",
    "plt.ylabel('Windspeed',fontsize = 14)\n",
    "plt.xlabel('Weather Situation',fontsize = 14)\n",
    "plt.show()\n",
    "#observation\n",
    "# As you can see there is some data above the higher thresh hold but I choose to keep it for linear regression model\n",
    "# Windspeed is argubly higher in snowy weather than misty and clear weather"
   ]
  },
  {
   "cell_type": "code",
   "execution_count": 38,
   "metadata": {},
   "outputs": [
    {
     "data": {
      "image/png": "[encoded data removed]",
      "text/plain": [
       "<Figure size 1080x432 with 1 Axes>"
      ]
     },
     "metadata": {},
     "output_type": "display_data"
    }
   ],
   "source": [
    "plt.figure(figsize=(15,6))\n",
    "sns.boxplot(data = df,y='Total_Count', x='Weather_Situation',palette='Blues')\n",
    "plt.title('Total users vs Weather Situation')\n",
    "plt.ylabel('Total users',fontsize = 14)\n",
    "plt.xlabel('Weather Situation',fontsize = 14)\n",
    "plt.show()\n",
    "#observation\n",
    "# According to the weather situation More no of bikes are being used during the clear weather \n",
    "# and the least being used in the snowy weather"
   ]
  },
  {
   "cell_type": "code",
   "execution_count": 39,
   "metadata": {},
   "outputs": [
    {
     "data": {
      "image/png": "[encoded data removed]",
      "text/plain": [
       "<Figure size 1080x432 with 1 Axes>"
      ]
     },
     "metadata": {},
     "output_type": "display_data"
    }
   ],
   "source": [
    "plt.figure(figsize=(15,6))\n",
    "sns.boxplot(data = df,y='Total_Count', x='Year',palette='Blues')\n",
    "plt.title('Total users vs Year')\n",
    "plt.ylabel('Total users',fontsize = 14)\n",
    "plt.xlabel('Year',fontsize = 14)\n",
    "plt.show()\n",
    "#observation\n",
    "# As you can see there is a drastic change in users from 2018 to 2019\n",
    "# the change is so high that the Higher threshold of 2018 is the mean of 2019"
   ]
  },
  {
   "cell_type": "code",
   "execution_count": 40,
   "metadata": {},
   "outputs": [
    {
     "data": {
      "image/png": "[encoded data removed]",
      "text/plain": [
       "<Figure size 1080x432 with 1 Axes>"
      ]
     },
     "metadata": {},
     "output_type": "display_data"
    }
   ],
   "source": [
    "plt.figure(figsize=(15,6))\n",
    "sns.boxplot(data = df,y='Total_Count', x='Weekday',palette='Blues')\n",
    "plt.title('Total users vs Weekday')\n",
    "plt.ylabel('Total users',fontsize = 14)\n",
    "plt.xlabel('Weekday',fontsize = 14)\n",
    "plt.show()\n",
    "#observation\n",
    "# almost all the means are equally around each other \n",
    "# But saturday and sunday has the highest higher threshold value"
   ]
  },
  {
   "cell_type": "code",
   "execution_count": 41,
   "metadata": {},
   "outputs": [
    {
     "data": {
      "image/png": "[encoded data removed]",
      "text/plain": [
       "<Figure size 1080x432 with 1 Axes>"
      ]
     },
     "metadata": {},
     "output_type": "display_data"
    }
   ],
   "source": [
    "plt.figure(figsize=(15,6))\n",
    "sns.violinplot(data = df,y='Total_Count', x='Workingday',palette='Blues')\n",
    "plt.title('Total users vs Workingday')\n",
    "plt.ylabel('Total users',fontsize = 14)\n",
    "plt.xlabel('Workingday',fontsize = 14)\n",
    "plt.show()\n",
    "#observation\n",
    "# As you can see there is no big difference between each other"
   ]
  },
  {
   "cell_type": "code",
   "execution_count": 42,
   "metadata": {},
   "outputs": [
    {
     "data": {
      "image/png": "[encoded data removed]",
      "text/plain": [
       "<Figure size 1080x432 with 1 Axes>"
      ]
     },
     "metadata": {},
     "output_type": "display_data"
    }
   ],
   "source": [
    "plt.figure(figsize=(15,6))\n",
    "sns.violinplot(data = df,y='Total_Count', x='Season',palette='Blues')\n",
    "plt.title('Total users vs Season')\n",
    "plt.ylabel('Total users',fontsize = 14)\n",
    "plt.xlabel('Season',fontsize = 14)\n",
    "plt.show()\n",
    "#observation\n",
    "# The least usage has been depicted around spring season and \n",
    "# # the most usage has been depicted in summer and fall seasons "
   ]
  },
  {
   "cell_type": "code",
   "execution_count": 43,
   "metadata": {},
   "outputs": [
    {
     "data": {
      "image/png": "[encoded data removed]",
      "text/plain": [
       "<Figure size 1080x432 with 1 Axes>"
      ]
     },
     "metadata": {},
     "output_type": "display_data"
    }
   ],
   "source": [
    "plt.figure(figsize=(15,6))\n",
    "sns.violinplot(data = df,y='Actual_Temperature', x='Season',palette='Blues')\n",
    "plt.title('TActual_Temperature vs Season')\n",
    "plt.ylabel('Actual_Temperature',fontsize = 14)\n",
    "plt.xlabel('Season',fontsize = 14)\n",
    "plt.show()\n",
    "#observation\n",
    "# the temperature is way less in spring and winter\n",
    "# so the decrease in the usage of vehicles"
   ]
  },
  {
   "cell_type": "code",
   "execution_count": 44,
   "metadata": {},
   "outputs": [
    {
     "data": {
      "image/png": "[encoded data removed]",
      "text/plain": [
       "<Figure size 432x288 with 2 Axes>"
      ]
     },
     "metadata": {},
     "output_type": "display_data"
    }
   ],
   "source": [
    "d = df[['Temperature','Actual_Temperature','Humidity','Windspeed']]\n",
    "sns.heatmap(data = d.corr() , annot=True,cmap='OrRd')\n",
    "plt.show()\n",
    "# as you can see Temperature and actual temperature are highl correlated so dropping temperature column"
   ]
  },
  {
   "cell_type": "code",
   "execution_count": 45,
   "metadata": {},
   "outputs": [],
   "source": [
    "df.drop(['Actual_Temperature'],axis=1,inplace=True)\n",
    "# dropping actual temperature because it is unneccesary and it is highly co related with temperature"
   ]
  },
  {
   "cell_type": "markdown",
   "metadata": {},
   "source": [
    "In order to build a model changing all the required variables into numericals"
   ]
  },
  {
   "cell_type": "code",
   "execution_count": 46,
   "metadata": {},
   "outputs": [],
   "source": [
    "df_linmodel = df\n",
    "# invoking a ned df for linear model building"
   ]
  },
  {
   "cell_type": "markdown",
   "metadata": {},
   "source": [
    "# Creating Dummy variables"
   ]
  },
  {
   "cell_type": "code",
   "execution_count": 47,
   "metadata": {},
   "outputs": [],
   "source": [
    "Dvar1 = pd.get_dummies(df_linmodel['Season'])\n",
    "#observation\n",
    "# if in any variable if 1 is present then it is that season\n",
    "# Fall spring winter summer\n",
    "#  1    0       0       0\n",
    "# the above means Fall respective with others"
   ]
  },
  {
   "cell_type": "code",
   "execution_count": 48,
   "metadata": {},
   "outputs": [],
   "source": [
    "Dvar2 = pd.get_dummies(df_linmodel['Month'])\n",
    "Dvar3 = pd.get_dummies(df_linmodel['Weekday'])\n",
    "Dvar4 = pd.get_dummies(df_linmodel['Workingday'])\n",
    "Dvar5 = pd.get_dummies(df_linmodel['Weather_Situation'])"
   ]
  },
  {
   "cell_type": "code",
   "execution_count": 49,
   "metadata": {},
   "outputs": [],
   "source": [
    "# Appending all the values\n",
    "df_linmodel = pd.concat([df_linmodel,Dvar1,Dvar2,Dvar3,Dvar4,Dvar5],axis=1)"
   ]
  },
  {
   "cell_type": "code",
   "execution_count": 50,
   "metadata": {},
   "outputs": [],
   "source": [
    "df_linmodel.drop(['Season','Month','Weekday','Workingday','Weather_Situation'],axis=1,inplace=True)\n",
    "# dropping the columns not required\n",
    "# dropping year because it is only for 2018 and 2019 and it is not continouos"
   ]
  },
  {
   "cell_type": "code",
   "execution_count": 51,
   "metadata": {},
   "outputs": [],
   "source": [
    "#similarly dropping a single variable in each created model because \n",
    "# lets say in season, I droped fall \n",
    "# if spring,winter,summer are 0 then fall will be 1, so there will be no loss even if we drop the data\n",
    "# its similiar in the case of rest 4 variables\n",
    "df_linmodel.drop(['spring','Jan','Monday','Holiday','Snowy'],axis=1,inplace=True)"
   ]
  },
  {
   "cell_type": "code",
   "execution_count": 52,
   "metadata": {},
   "outputs": [
    {
     "data": {
      "text/html": [
       "<div>\n",
       "<style scoped>\n",
       "    .dataframe tbody tr th:only-of-type {\n",
       "        vertical-align: middle;\n",
       "    }\n",
       "\n",
       "    .dataframe tbody tr th {\n",
       "        vertical-align: top;\n",
       "    }\n",
       "\n",
       "    .dataframe thead th {\n",
       "        text-align: right;\n",
       "    }\n",
       "</style>\n",
       "<table border=\"1\" class=\"dataframe\">\n",
       "  <thead>\n",
       "    <tr style=\"text-align: right;\">\n",
       "      <th></th>\n",
       "      <th>Year</th>\n",
       "      <th>Temperature</th>\n",
       "      <th>Humidity</th>\n",
       "      <th>Windspeed</th>\n",
       "      <th>Total_Count</th>\n",
       "      <th>fall</th>\n",
       "      <th>summer</th>\n",
       "      <th>winter</th>\n",
       "      <th>Apr</th>\n",
       "      <th>Aug</th>\n",
       "      <th>...</th>\n",
       "      <th>Sep</th>\n",
       "      <th>Friday</th>\n",
       "      <th>Saturday</th>\n",
       "      <th>Sunday</th>\n",
       "      <th>Thursday</th>\n",
       "      <th>Tuesday</th>\n",
       "      <th>Wednesday</th>\n",
       "      <th>Working day</th>\n",
       "      <th>Clear</th>\n",
       "      <th>Misty</th>\n",
       "    </tr>\n",
       "  </thead>\n",
       "  <tbody>\n",
       "    <tr>\n",
       "      <th>0</th>\n",
       "      <td>0</td>\n",
       "      <td>14.110847</td>\n",
       "      <td>80.5833</td>\n",
       "      <td>10.749882</td>\n",
       "      <td>985</td>\n",
       "      <td>0</td>\n",
       "      <td>0</td>\n",
       "      <td>0</td>\n",
       "      <td>0</td>\n",
       "      <td>0</td>\n",
       "      <td>...</td>\n",
       "      <td>0</td>\n",
       "      <td>0</td>\n",
       "      <td>1</td>\n",
       "      <td>0</td>\n",
       "      <td>0</td>\n",
       "      <td>0</td>\n",
       "      <td>0</td>\n",
       "      <td>0</td>\n",
       "      <td>0</td>\n",
       "      <td>1</td>\n",
       "    </tr>\n",
       "    <tr>\n",
       "      <th>1</th>\n",
       "      <td>0</td>\n",
       "      <td>14.902598</td>\n",
       "      <td>69.6087</td>\n",
       "      <td>16.652113</td>\n",
       "      <td>801</td>\n",
       "      <td>0</td>\n",
       "      <td>0</td>\n",
       "      <td>0</td>\n",
       "      <td>0</td>\n",
       "      <td>0</td>\n",
       "      <td>...</td>\n",
       "      <td>0</td>\n",
       "      <td>0</td>\n",
       "      <td>0</td>\n",
       "      <td>1</td>\n",
       "      <td>0</td>\n",
       "      <td>0</td>\n",
       "      <td>0</td>\n",
       "      <td>0</td>\n",
       "      <td>0</td>\n",
       "      <td>1</td>\n",
       "    </tr>\n",
       "    <tr>\n",
       "      <th>2</th>\n",
       "      <td>0</td>\n",
       "      <td>8.050924</td>\n",
       "      <td>43.7273</td>\n",
       "      <td>16.636703</td>\n",
       "      <td>1349</td>\n",
       "      <td>0</td>\n",
       "      <td>0</td>\n",
       "      <td>0</td>\n",
       "      <td>0</td>\n",
       "      <td>0</td>\n",
       "      <td>...</td>\n",
       "      <td>0</td>\n",
       "      <td>0</td>\n",
       "      <td>0</td>\n",
       "      <td>0</td>\n",
       "      <td>0</td>\n",
       "      <td>0</td>\n",
       "      <td>0</td>\n",
       "      <td>1</td>\n",
       "      <td>1</td>\n",
       "      <td>0</td>\n",
       "    </tr>\n",
       "    <tr>\n",
       "      <th>3</th>\n",
       "      <td>0</td>\n",
       "      <td>8.200000</td>\n",
       "      <td>59.0435</td>\n",
       "      <td>10.739832</td>\n",
       "      <td>1562</td>\n",
       "      <td>0</td>\n",
       "      <td>0</td>\n",
       "      <td>0</td>\n",
       "      <td>1</td>\n",
       "      <td>0</td>\n",
       "      <td>...</td>\n",
       "      <td>0</td>\n",
       "      <td>0</td>\n",
       "      <td>0</td>\n",
       "      <td>0</td>\n",
       "      <td>0</td>\n",
       "      <td>1</td>\n",
       "      <td>0</td>\n",
       "      <td>1</td>\n",
       "      <td>1</td>\n",
       "      <td>0</td>\n",
       "    </tr>\n",
       "    <tr>\n",
       "      <th>4</th>\n",
       "      <td>0</td>\n",
       "      <td>9.305237</td>\n",
       "      <td>43.6957</td>\n",
       "      <td>12.522300</td>\n",
       "      <td>1600</td>\n",
       "      <td>0</td>\n",
       "      <td>0</td>\n",
       "      <td>0</td>\n",
       "      <td>0</td>\n",
       "      <td>0</td>\n",
       "      <td>...</td>\n",
       "      <td>0</td>\n",
       "      <td>0</td>\n",
       "      <td>0</td>\n",
       "      <td>0</td>\n",
       "      <td>0</td>\n",
       "      <td>0</td>\n",
       "      <td>1</td>\n",
       "      <td>1</td>\n",
       "      <td>1</td>\n",
       "      <td>0</td>\n",
       "    </tr>\n",
       "  </tbody>\n",
       "</table>\n",
       "<p>5 rows × 28 columns</p>\n",
       "</div>"
      ],
      "text/plain": [
       "   Year  Temperature  Humidity  Windspeed  Total_Count  fall  summer  winter  \\\n",
       "0     0    14.110847   80.5833  10.749882          985     0       0       0   \n",
       "1     0    14.902598   69.6087  16.652113          801     0       0       0   \n",
       "2     0     8.050924   43.7273  16.636703         1349     0       0       0   \n",
       "3     0     8.200000   59.0435  10.739832         1562     0       0       0   \n",
       "4     0     9.305237   43.6957  12.522300         1600     0       0       0   \n",
       "\n",
       "   Apr  Aug  ...  Sep  Friday  Saturday  Sunday  Thursday  Tuesday  Wednesday  \\\n",
       "0    0    0  ...    0       0         1       0         0        0          0   \n",
       "1    0    0  ...    0       0         0       1         0        0          0   \n",
       "2    0    0  ...    0       0         0       0         0        0          0   \n",
       "3    1    0  ...    0       0         0       0         0        1          0   \n",
       "4    0    0  ...    0       0         0       0         0        0          1   \n",
       "\n",
       "   Working day  Clear  Misty  \n",
       "0            0      0      1  \n",
       "1            0      0      1  \n",
       "2            1      1      0  \n",
       "3            1      1      0  \n",
       "4            1      1      0  \n",
       "\n",
       "[5 rows x 28 columns]"
      ]
     },
     "execution_count": 52,
     "metadata": {},
     "output_type": "execute_result"
    }
   ],
   "source": [
    "df_linmodel.head()"
   ]
  },
  {
   "cell_type": "markdown",
   "metadata": {},
   "source": [
    "# Splitting data set in to train and test models"
   ]
  },
  {
   "cell_type": "code",
   "execution_count": 53,
   "metadata": {},
   "outputs": [],
   "source": [
    "from sklearn.model_selection import train_test_split\n",
    "# this is specified so that the train and test data set always have the same rows, respectively\n",
    "np.random.seed(0)\n",
    "df_train, df_test = train_test_split(df_linmodel, train_size = 0.7, test_size = 0.3, random_state = 100)\n",
    "# we are taking 70% training data set and 30% test data set"
   ]
  },
  {
   "cell_type": "markdown",
   "metadata": {},
   "source": [
    "# Rescaling the feautres by using Min-Max method"
   ]
  },
  {
   "cell_type": "code",
   "execution_count": 54,
   "metadata": {},
   "outputs": [],
   "source": [
    "from sklearn.preprocessing import MinMaxScaler\n",
    "scaler = MinMaxScaler()"
   ]
  },
  {
   "cell_type": "code",
   "execution_count": 55,
   "metadata": {},
   "outputs": [],
   "source": [
    "#Applying scaling functions to everything except which are in the format of yes/no or particular variables such as years months etc\n",
    "vars = ['Temperature', 'Humidity', 'Windspeed','Total_Count']\n",
    "\n",
    "df_train[vars] = scaler.fit_transform(df_train[vars])\n"
   ]
  },
  {
   "cell_type": "code",
   "execution_count": 56,
   "metadata": {},
   "outputs": [
    {
     "data": {
      "text/html": [
       "<div>\n",
       "<style scoped>\n",
       "    .dataframe tbody tr th:only-of-type {\n",
       "        vertical-align: middle;\n",
       "    }\n",
       "\n",
       "    .dataframe tbody tr th {\n",
       "        vertical-align: top;\n",
       "    }\n",
       "\n",
       "    .dataframe thead th {\n",
       "        text-align: right;\n",
       "    }\n",
       "</style>\n",
       "<table border=\"1\" class=\"dataframe\">\n",
       "  <thead>\n",
       "    <tr style=\"text-align: right;\">\n",
       "      <th></th>\n",
       "      <th>Year</th>\n",
       "      <th>Temperature</th>\n",
       "      <th>Humidity</th>\n",
       "      <th>Windspeed</th>\n",
       "      <th>Total_Count</th>\n",
       "      <th>fall</th>\n",
       "      <th>summer</th>\n",
       "      <th>winter</th>\n",
       "      <th>Apr</th>\n",
       "      <th>Aug</th>\n",
       "      <th>...</th>\n",
       "      <th>Sep</th>\n",
       "      <th>Friday</th>\n",
       "      <th>Saturday</th>\n",
       "      <th>Sunday</th>\n",
       "      <th>Thursday</th>\n",
       "      <th>Tuesday</th>\n",
       "      <th>Wednesday</th>\n",
       "      <th>Working day</th>\n",
       "      <th>Clear</th>\n",
       "      <th>Misty</th>\n",
       "    </tr>\n",
       "  </thead>\n",
       "  <tbody>\n",
       "    <tr>\n",
       "      <th>728</th>\n",
       "      <td>1</td>\n",
       "      <td>0.245101</td>\n",
       "      <td>0.319025</td>\n",
       "      <td>0.772556</td>\n",
       "      <td>0.204096</td>\n",
       "      <td>0</td>\n",
       "      <td>0</td>\n",
       "      <td>0</td>\n",
       "      <td>0</td>\n",
       "      <td>0</td>\n",
       "      <td>...</td>\n",
       "      <td>0</td>\n",
       "      <td>0</td>\n",
       "      <td>0</td>\n",
       "      <td>1</td>\n",
       "      <td>0</td>\n",
       "      <td>0</td>\n",
       "      <td>0</td>\n",
       "      <td>0</td>\n",
       "      <td>1</td>\n",
       "      <td>0</td>\n",
       "    </tr>\n",
       "    <tr>\n",
       "      <th>481</th>\n",
       "      <td>1</td>\n",
       "      <td>0.496388</td>\n",
       "      <td>0.204176</td>\n",
       "      <td>0.764739</td>\n",
       "      <td>0.714565</td>\n",
       "      <td>0</td>\n",
       "      <td>1</td>\n",
       "      <td>0</td>\n",
       "      <td>1</td>\n",
       "      <td>0</td>\n",
       "      <td>...</td>\n",
       "      <td>0</td>\n",
       "      <td>1</td>\n",
       "      <td>0</td>\n",
       "      <td>0</td>\n",
       "      <td>0</td>\n",
       "      <td>0</td>\n",
       "      <td>0</td>\n",
       "      <td>1</td>\n",
       "      <td>1</td>\n",
       "      <td>0</td>\n",
       "    </tr>\n",
       "    <tr>\n",
       "      <th>113</th>\n",
       "      <td>0</td>\n",
       "      <td>0.651106</td>\n",
       "      <td>0.774941</td>\n",
       "      <td>0.375373</td>\n",
       "      <td>0.479636</td>\n",
       "      <td>0</td>\n",
       "      <td>1</td>\n",
       "      <td>0</td>\n",
       "      <td>1</td>\n",
       "      <td>0</td>\n",
       "      <td>...</td>\n",
       "      <td>0</td>\n",
       "      <td>0</td>\n",
       "      <td>0</td>\n",
       "      <td>1</td>\n",
       "      <td>0</td>\n",
       "      <td>0</td>\n",
       "      <td>0</td>\n",
       "      <td>0</td>\n",
       "      <td>0</td>\n",
       "      <td>1</td>\n",
       "    </tr>\n",
       "    <tr>\n",
       "      <th>629</th>\n",
       "      <td>1</td>\n",
       "      <td>0.736253</td>\n",
       "      <td>0.546404</td>\n",
       "      <td>0.604317</td>\n",
       "      <td>0.963300</td>\n",
       "      <td>1</td>\n",
       "      <td>0</td>\n",
       "      <td>0</td>\n",
       "      <td>0</td>\n",
       "      <td>0</td>\n",
       "      <td>...</td>\n",
       "      <td>1</td>\n",
       "      <td>0</td>\n",
       "      <td>1</td>\n",
       "      <td>0</td>\n",
       "      <td>0</td>\n",
       "      <td>0</td>\n",
       "      <td>0</td>\n",
       "      <td>0</td>\n",
       "      <td>1</td>\n",
       "      <td>0</td>\n",
       "    </tr>\n",
       "    <tr>\n",
       "      <th>535</th>\n",
       "      <td>1</td>\n",
       "      <td>0.901354</td>\n",
       "      <td>0.470417</td>\n",
       "      <td>0.179101</td>\n",
       "      <td>0.712034</td>\n",
       "      <td>0</td>\n",
       "      <td>1</td>\n",
       "      <td>0</td>\n",
       "      <td>0</td>\n",
       "      <td>0</td>\n",
       "      <td>...</td>\n",
       "      <td>0</td>\n",
       "      <td>0</td>\n",
       "      <td>0</td>\n",
       "      <td>0</td>\n",
       "      <td>0</td>\n",
       "      <td>0</td>\n",
       "      <td>1</td>\n",
       "      <td>1</td>\n",
       "      <td>1</td>\n",
       "      <td>0</td>\n",
       "    </tr>\n",
       "  </tbody>\n",
       "</table>\n",
       "<p>5 rows × 28 columns</p>\n",
       "</div>"
      ],
      "text/plain": [
       "     Year  Temperature  Humidity  Windspeed  Total_Count  fall  summer  \\\n",
       "728     1     0.245101  0.319025   0.772556     0.204096     0       0   \n",
       "481     1     0.496388  0.204176   0.764739     0.714565     0       1   \n",
       "113     0     0.651106  0.774941   0.375373     0.479636     0       1   \n",
       "629     1     0.736253  0.546404   0.604317     0.963300     1       0   \n",
       "535     1     0.901354  0.470417   0.179101     0.712034     0       1   \n",
       "\n",
       "     winter  Apr  Aug  ...  Sep  Friday  Saturday  Sunday  Thursday  Tuesday  \\\n",
       "728       0    0    0  ...    0       0         0       1         0        0   \n",
       "481       0    1    0  ...    0       1         0       0         0        0   \n",
       "113       0    1    0  ...    0       0         0       1         0        0   \n",
       "629       0    0    0  ...    1       0         1       0         0        0   \n",
       "535       0    0    0  ...    0       0         0       0         0        0   \n",
       "\n",
       "     Wednesday  Working day  Clear  Misty  \n",
       "728          0            0      1      0  \n",
       "481          0            1      1      0  \n",
       "113          0            0      0      1  \n",
       "629          0            0      1      0  \n",
       "535          1            1      1      0  \n",
       "\n",
       "[5 rows x 28 columns]"
      ]
     },
     "execution_count": 56,
     "metadata": {},
     "output_type": "execute_result"
    }
   ],
   "source": [
    "df_train.head()\n",
    "#oservation\n",
    "#as you can see everything is in the range of 0 and 1 so it will be easy to create a regression model"
   ]
  },
  {
   "cell_type": "code",
   "execution_count": 57,
   "metadata": {},
   "outputs": [
    {
     "data": {
      "text/html": [
       "<div>\n",
       "<style scoped>\n",
       "    .dataframe tbody tr th:only-of-type {\n",
       "        vertical-align: middle;\n",
       "    }\n",
       "\n",
       "    .dataframe tbody tr th {\n",
       "        vertical-align: top;\n",
       "    }\n",
       "\n",
       "    .dataframe thead th {\n",
       "        text-align: right;\n",
       "    }\n",
       "</style>\n",
       "<table border=\"1\" class=\"dataframe\">\n",
       "  <thead>\n",
       "    <tr style=\"text-align: right;\">\n",
       "      <th></th>\n",
       "      <th>Year</th>\n",
       "      <th>Temperature</th>\n",
       "      <th>Humidity</th>\n",
       "      <th>Windspeed</th>\n",
       "      <th>Total_Count</th>\n",
       "      <th>fall</th>\n",
       "      <th>summer</th>\n",
       "      <th>winter</th>\n",
       "      <th>Apr</th>\n",
       "      <th>Aug</th>\n",
       "      <th>...</th>\n",
       "      <th>Sep</th>\n",
       "      <th>Friday</th>\n",
       "      <th>Saturday</th>\n",
       "      <th>Sunday</th>\n",
       "      <th>Thursday</th>\n",
       "      <th>Tuesday</th>\n",
       "      <th>Wednesday</th>\n",
       "      <th>Working day</th>\n",
       "      <th>Clear</th>\n",
       "      <th>Misty</th>\n",
       "    </tr>\n",
       "  </thead>\n",
       "  <tbody>\n",
       "    <tr>\n",
       "      <th>count</th>\n",
       "      <td>509.000000</td>\n",
       "      <td>509.000000</td>\n",
       "      <td>509.000000</td>\n",
       "      <td>509.000000</td>\n",
       "      <td>509.000000</td>\n",
       "      <td>509.000000</td>\n",
       "      <td>509.000000</td>\n",
       "      <td>509.000000</td>\n",
       "      <td>509.000000</td>\n",
       "      <td>509.000000</td>\n",
       "      <td>...</td>\n",
       "      <td>509.000000</td>\n",
       "      <td>509.000000</td>\n",
       "      <td>509.000000</td>\n",
       "      <td>509.000000</td>\n",
       "      <td>509.000000</td>\n",
       "      <td>509.000000</td>\n",
       "      <td>509.000000</td>\n",
       "      <td>509.000000</td>\n",
       "      <td>509.000000</td>\n",
       "      <td>509.000000</td>\n",
       "    </tr>\n",
       "    <tr>\n",
       "      <th>mean</th>\n",
       "      <td>0.506876</td>\n",
       "      <td>0.537164</td>\n",
       "      <td>0.529901</td>\n",
       "      <td>0.374965</td>\n",
       "      <td>0.512550</td>\n",
       "      <td>0.259332</td>\n",
       "      <td>0.245580</td>\n",
       "      <td>0.253438</td>\n",
       "      <td>0.068762</td>\n",
       "      <td>0.094303</td>\n",
       "      <td>...</td>\n",
       "      <td>0.074656</td>\n",
       "      <td>0.153242</td>\n",
       "      <td>0.143418</td>\n",
       "      <td>0.145383</td>\n",
       "      <td>0.131631</td>\n",
       "      <td>0.127701</td>\n",
       "      <td>0.141454</td>\n",
       "      <td>0.679764</td>\n",
       "      <td>0.609037</td>\n",
       "      <td>0.359528</td>\n",
       "    </tr>\n",
       "    <tr>\n",
       "      <th>std</th>\n",
       "      <td>0.500445</td>\n",
       "      <td>0.226375</td>\n",
       "      <td>0.199051</td>\n",
       "      <td>0.195571</td>\n",
       "      <td>0.224155</td>\n",
       "      <td>0.438699</td>\n",
       "      <td>0.430854</td>\n",
       "      <td>0.435408</td>\n",
       "      <td>0.253298</td>\n",
       "      <td>0.292537</td>\n",
       "      <td>...</td>\n",
       "      <td>0.263094</td>\n",
       "      <td>0.360575</td>\n",
       "      <td>0.350844</td>\n",
       "      <td>0.352833</td>\n",
       "      <td>0.338421</td>\n",
       "      <td>0.334085</td>\n",
       "      <td>0.348832</td>\n",
       "      <td>0.467026</td>\n",
       "      <td>0.488446</td>\n",
       "      <td>0.480334</td>\n",
       "    </tr>\n",
       "    <tr>\n",
       "      <th>min</th>\n",
       "      <td>0.000000</td>\n",
       "      <td>0.000000</td>\n",
       "      <td>0.000000</td>\n",
       "      <td>0.000000</td>\n",
       "      <td>0.000000</td>\n",
       "      <td>0.000000</td>\n",
       "      <td>0.000000</td>\n",
       "      <td>0.000000</td>\n",
       "      <td>0.000000</td>\n",
       "      <td>0.000000</td>\n",
       "      <td>...</td>\n",
       "      <td>0.000000</td>\n",
       "      <td>0.000000</td>\n",
       "      <td>0.000000</td>\n",
       "      <td>0.000000</td>\n",
       "      <td>0.000000</td>\n",
       "      <td>0.000000</td>\n",
       "      <td>0.000000</td>\n",
       "      <td>0.000000</td>\n",
       "      <td>0.000000</td>\n",
       "      <td>0.000000</td>\n",
       "    </tr>\n",
       "    <tr>\n",
       "      <th>25%</th>\n",
       "      <td>0.000000</td>\n",
       "      <td>0.336479</td>\n",
       "      <td>0.383410</td>\n",
       "      <td>0.230522</td>\n",
       "      <td>0.355844</td>\n",
       "      <td>0.000000</td>\n",
       "      <td>0.000000</td>\n",
       "      <td>0.000000</td>\n",
       "      <td>0.000000</td>\n",
       "      <td>0.000000</td>\n",
       "      <td>...</td>\n",
       "      <td>0.000000</td>\n",
       "      <td>0.000000</td>\n",
       "      <td>0.000000</td>\n",
       "      <td>0.000000</td>\n",
       "      <td>0.000000</td>\n",
       "      <td>0.000000</td>\n",
       "      <td>0.000000</td>\n",
       "      <td>0.000000</td>\n",
       "      <td>0.000000</td>\n",
       "      <td>0.000000</td>\n",
       "    </tr>\n",
       "    <tr>\n",
       "      <th>50%</th>\n",
       "      <td>1.000000</td>\n",
       "      <td>0.533770</td>\n",
       "      <td>0.527262</td>\n",
       "      <td>0.353572</td>\n",
       "      <td>0.516452</td>\n",
       "      <td>0.000000</td>\n",
       "      <td>0.000000</td>\n",
       "      <td>0.000000</td>\n",
       "      <td>0.000000</td>\n",
       "      <td>0.000000</td>\n",
       "      <td>...</td>\n",
       "      <td>0.000000</td>\n",
       "      <td>0.000000</td>\n",
       "      <td>0.000000</td>\n",
       "      <td>0.000000</td>\n",
       "      <td>0.000000</td>\n",
       "      <td>0.000000</td>\n",
       "      <td>0.000000</td>\n",
       "      <td>1.000000</td>\n",
       "      <td>1.000000</td>\n",
       "      <td>0.000000</td>\n",
       "    </tr>\n",
       "    <tr>\n",
       "      <th>75%</th>\n",
       "      <td>1.000000</td>\n",
       "      <td>0.736253</td>\n",
       "      <td>0.669954</td>\n",
       "      <td>0.487485</td>\n",
       "      <td>0.678900</td>\n",
       "      <td>1.000000</td>\n",
       "      <td>0.000000</td>\n",
       "      <td>1.000000</td>\n",
       "      <td>0.000000</td>\n",
       "      <td>0.000000</td>\n",
       "      <td>...</td>\n",
       "      <td>0.000000</td>\n",
       "      <td>0.000000</td>\n",
       "      <td>0.000000</td>\n",
       "      <td>0.000000</td>\n",
       "      <td>0.000000</td>\n",
       "      <td>0.000000</td>\n",
       "      <td>0.000000</td>\n",
       "      <td>1.000000</td>\n",
       "      <td>1.000000</td>\n",
       "      <td>1.000000</td>\n",
       "    </tr>\n",
       "    <tr>\n",
       "      <th>max</th>\n",
       "      <td>1.000000</td>\n",
       "      <td>1.000000</td>\n",
       "      <td>1.000000</td>\n",
       "      <td>1.000000</td>\n",
       "      <td>1.000000</td>\n",
       "      <td>1.000000</td>\n",
       "      <td>1.000000</td>\n",
       "      <td>1.000000</td>\n",
       "      <td>1.000000</td>\n",
       "      <td>1.000000</td>\n",
       "      <td>...</td>\n",
       "      <td>1.000000</td>\n",
       "      <td>1.000000</td>\n",
       "      <td>1.000000</td>\n",
       "      <td>1.000000</td>\n",
       "      <td>1.000000</td>\n",
       "      <td>1.000000</td>\n",
       "      <td>1.000000</td>\n",
       "      <td>1.000000</td>\n",
       "      <td>1.000000</td>\n",
       "      <td>1.000000</td>\n",
       "    </tr>\n",
       "  </tbody>\n",
       "</table>\n",
       "<p>8 rows × 28 columns</p>\n",
       "</div>"
      ],
      "text/plain": [
       "             Year  Temperature    Humidity   Windspeed  Total_Count  \\\n",
       "count  509.000000   509.000000  509.000000  509.000000   509.000000   \n",
       "mean     0.506876     0.537164    0.529901    0.374965     0.512550   \n",
       "std      0.500445     0.226375    0.199051    0.195571     0.224155   \n",
       "min      0.000000     0.000000    0.000000    0.000000     0.000000   \n",
       "25%      0.000000     0.336479    0.383410    0.230522     0.355844   \n",
       "50%      1.000000     0.533770    0.527262    0.353572     0.516452   \n",
       "75%      1.000000     0.736253    0.669954    0.487485     0.678900   \n",
       "max      1.000000     1.000000    1.000000    1.000000     1.000000   \n",
       "\n",
       "             fall      summer      winter         Apr         Aug  ...  \\\n",
       "count  509.000000  509.000000  509.000000  509.000000  509.000000  ...   \n",
       "mean     0.259332    0.245580    0.253438    0.068762    0.094303  ...   \n",
       "std      0.438699    0.430854    0.435408    0.253298    0.292537  ...   \n",
       "min      0.000000    0.000000    0.000000    0.000000    0.000000  ...   \n",
       "25%      0.000000    0.000000    0.000000    0.000000    0.000000  ...   \n",
       "50%      0.000000    0.000000    0.000000    0.000000    0.000000  ...   \n",
       "75%      1.000000    0.000000    1.000000    0.000000    0.000000  ...   \n",
       "max      1.000000    1.000000    1.000000    1.000000    1.000000  ...   \n",
       "\n",
       "              Sep      Friday    Saturday      Sunday    Thursday     Tuesday  \\\n",
       "count  509.000000  509.000000  509.000000  509.000000  509.000000  509.000000   \n",
       "mean     0.074656    0.153242    0.143418    0.145383    0.131631    0.127701   \n",
       "std      0.263094    0.360575    0.350844    0.352833    0.338421    0.334085   \n",
       "min      0.000000    0.000000    0.000000    0.000000    0.000000    0.000000   \n",
       "25%      0.000000    0.000000    0.000000    0.000000    0.000000    0.000000   \n",
       "50%      0.000000    0.000000    0.000000    0.000000    0.000000    0.000000   \n",
       "75%      0.000000    0.000000    0.000000    0.000000    0.000000    0.000000   \n",
       "max      1.000000    1.000000    1.000000    1.000000    1.000000    1.000000   \n",
       "\n",
       "        Wednesday  Working day       Clear       Misty  \n",
       "count  509.000000   509.000000  509.000000  509.000000  \n",
       "mean     0.141454     0.679764    0.609037    0.359528  \n",
       "std      0.348832     0.467026    0.488446    0.480334  \n",
       "min      0.000000     0.000000    0.000000    0.000000  \n",
       "25%      0.000000     0.000000    0.000000    0.000000  \n",
       "50%      0.000000     1.000000    1.000000    0.000000  \n",
       "75%      0.000000     1.000000    1.000000    1.000000  \n",
       "max      1.000000     1.000000    1.000000    1.000000  \n",
       "\n",
       "[8 rows x 28 columns]"
      ]
     },
     "execution_count": 57,
     "metadata": {},
     "output_type": "execute_result"
    }
   ],
   "source": [
    "df_train.describe()\n",
    "# as you can see the count is 510 because we have split the data in to test and train"
   ]
  },
  {
   "cell_type": "code",
   "execution_count": 58,
   "metadata": {},
   "outputs": [
    {
     "data": {
      "image/png": "[encoded data removed]",
      "text/plain": [
       "<Figure size 432x432 with 1 Axes>"
      ]
     },
     "metadata": {},
     "output_type": "display_data"
    }
   ],
   "source": [
    "# As you can see total_count and temperature is correlated\n",
    "plt.figure(figsize=[6,6])\n",
    "plt.scatter(df_train['Temperature'], df_train['Total_Count'])\n",
    "plt.xlabel('Temperature')\n",
    "plt.ylabel('Total count')\n",
    "plt.show()\n"
   ]
  },
  {
   "cell_type": "markdown",
   "metadata": {},
   "source": [
    "Dividing in to X and Y data sets for model"
   ]
  },
  {
   "cell_type": "code",
   "execution_count": 59,
   "metadata": {},
   "outputs": [],
   "source": [
    "y_train = df_train.pop('Total_Count')\n",
    "X_train = df_train\n",
    "# as total count is the target variable"
   ]
  },
  {
   "cell_type": "markdown",
   "metadata": {},
   "source": [
    "# BUILDING A MODEL"
   ]
  },
  {
   "cell_type": "code",
   "execution_count": 60,
   "metadata": {},
   "outputs": [],
   "source": [
    "import statsmodels.api as sm\n",
    "\n",
    "# Adding a constant\n",
    "X_train_lm = sm.add_constant(X_train[['Temperature']])\n",
    "\n",
    "# Creating a first fitted model\n",
    "lr = sm.OLS(y_train, X_train_lm).fit()"
   ]
  },
  {
   "cell_type": "code",
   "execution_count": 61,
   "metadata": {},
   "outputs": [
    {
     "data": {
      "text/plain": [
       "const          0.162791\n",
       "Temperature    0.651120\n",
       "dtype: float64"
      ]
     },
     "execution_count": 61,
     "metadata": {},
     "output_type": "execute_result"
    }
   ],
   "source": [
    "lr.params"
   ]
  },
  {
   "cell_type": "code",
   "execution_count": 62,
   "metadata": {},
   "outputs": [
    {
     "data": {
      "image/png": "[encoded data removed]",
      "text/plain": [
       "<Figure size 432x288 with 1 Axes>"
      ]
     },
     "metadata": {},
     "output_type": "display_data"
    }
   ],
   "source": [
    "# Let's visualise the data with a scatter plot and the fitted regression line\n",
    "plt.scatter(X_train_lm.iloc[:, 1], y_train)\n",
    "plt.plot(X_train_lm.iloc[:, 1], 0.162791 + 0.651120*X_train_lm.iloc[:, 1], 'r')\n",
    "plt.show()\n",
    "#observation\n",
    "# as you can see the regresion line fits properly"
   ]
  },
  {
   "cell_type": "code",
   "execution_count": 63,
   "metadata": {},
   "outputs": [
    {
     "name": "stdout",
     "output_type": "stream",
     "text": [
      "                            OLS Regression Results                            \n",
      "==============================================================================\n",
      "Dep. Variable:            Total_Count   R-squared:                       0.432\n",
      "Model:                            OLS   Adj. R-squared:                  0.431\n",
      "Method:                 Least Squares   F-statistic:                     386.2\n",
      "Date:                Sun, 06 Feb 2022   Prob (F-statistic):           2.40e-64\n",
      "Time:                        00:54:40   Log-Likelihood:                 183.56\n",
      "No. Observations:                 509   AIC:                            -363.1\n",
      "Df Residuals:                     507   BIC:                            -354.7\n",
      "Df Model:                           1                                         \n",
      "Covariance Type:            nonrobust                                         \n",
      "===============================================================================\n",
      "                  coef    std err          t      P>|t|      [0.025      0.975]\n",
      "-------------------------------------------------------------------------------\n",
      "const           0.1628      0.019      8.430      0.000       0.125       0.201\n",
      "Temperature     0.6511      0.033     19.653      0.000       0.586       0.716\n",
      "==============================================================================\n",
      "Omnibus:                       10.242   Durbin-Watson:                   2.006\n",
      "Prob(Omnibus):                  0.006   Jarque-Bera (JB):                6.422\n",
      "Skew:                           0.105   Prob(JB):                       0.0403\n",
      "Kurtosis:                       2.491   Cond. No.                         5.75\n",
      "==============================================================================\n",
      "\n",
      "Notes:\n",
      "[1] Standard Errors assume that the covariance matrix of the errors is correctly specified.\n"
     ]
    }
   ],
   "source": [
    "# Printing a summary of the linear regression model obtained\n",
    "print(lr.summary())"
   ]
  },
  {
   "cell_type": "markdown",
   "metadata": {},
   "source": [
    "# EXTRACTING IMPORTANT VARIABLES USING RFE"
   ]
  },
  {
   "cell_type": "code",
   "execution_count": 64,
   "metadata": {},
   "outputs": [],
   "source": [
    "from sklearn.feature_selection import RFE\n",
    "from sklearn.linear_model import LinearRegression\n",
    "# using the rfe from sklearn to determine the important variables"
   ]
  },
  {
   "cell_type": "code",
   "execution_count": 65,
   "metadata": {},
   "outputs": [],
   "source": [
    "lm = LinearRegression()\n",
    "lm.fit(X_train, y_train)\n",
    "\n",
    "rfe = RFE(lm,n_features_to_select = 15) # running RFE\n",
    "rfe = rfe.fit(X_train, y_train)"
   ]
  },
  {
   "cell_type": "code",
   "execution_count": 66,
   "metadata": {},
   "outputs": [
    {
     "data": {
      "text/plain": [
       "[('Year', True, 1),\n",
       " ('Temperature', True, 1),\n",
       " ('Humidity', True, 1),\n",
       " ('Windspeed', True, 1),\n",
       " ('fall', True, 1),\n",
       " ('summer', True, 1),\n",
       " ('winter', True, 1),\n",
       " ('Apr', False, 2),\n",
       " ('Aug', False, 5),\n",
       " ('Dec', False, 13),\n",
       " ('Feb', False, 9),\n",
       " ('July', False, 11),\n",
       " ('June', False, 4),\n",
       " ('Mar', True, 1),\n",
       " ('May', False, 3),\n",
       " ('Nov', False, 12),\n",
       " ('Oct', True, 1),\n",
       " ('Sep', True, 1),\n",
       " ('Friday', False, 6),\n",
       " ('Saturday', True, 1),\n",
       " ('Sunday', True, 1),\n",
       " ('Thursday', False, 8),\n",
       " ('Tuesday', False, 10),\n",
       " ('Wednesday', False, 7),\n",
       " ('Working day', True, 1),\n",
       " ('Clear', True, 1),\n",
       " ('Misty', True, 1)]"
      ]
     },
     "execution_count": 66,
     "metadata": {},
     "output_type": "execute_result"
    }
   ],
   "source": [
    "list(zip(X_train.columns,rfe.support_,rfe.ranking_))\n",
    "# creating a list of values according to rank"
   ]
  },
  {
   "cell_type": "code",
   "execution_count": 67,
   "metadata": {},
   "outputs": [
    {
     "data": {
      "text/plain": [
       "Index(['Year', 'Temperature', 'Humidity', 'Windspeed', 'fall', 'summer',\n",
       "       'winter', 'Mar', 'Oct', 'Sep', 'Saturday', 'Sunday', 'Working day',\n",
       "       'Clear', 'Misty'],\n",
       "      dtype='object')"
      ]
     },
     "execution_count": 67,
     "metadata": {},
     "output_type": "execute_result"
    }
   ],
   "source": [
    "op = X_train.columns[rfe.support_]\n",
    "op\n",
    "# Taking columns in to seperate list"
   ]
  },
  {
   "cell_type": "code",
   "execution_count": 68,
   "metadata": {},
   "outputs": [],
   "source": [
    "X_train_rfe = X_train[op]\n",
    "# Extracting the required columns"
   ]
  },
  {
   "cell_type": "code",
   "execution_count": 69,
   "metadata": {},
   "outputs": [
    {
     "name": "stdout",
     "output_type": "stream",
     "text": [
      "                            OLS Regression Results                            \n",
      "==============================================================================\n",
      "Dep. Variable:            Total_Count   R-squared:                       0.842\n",
      "Model:                            OLS   Adj. R-squared:                  0.837\n",
      "Method:                 Least Squares   F-statistic:                     174.8\n",
      "Date:                Sun, 06 Feb 2022   Prob (F-statistic):          3.20e-186\n",
      "Time:                        00:54:42   Log-Likelihood:                 508.54\n",
      "No. Observations:                 509   AIC:                            -985.1\n",
      "Df Residuals:                     493   BIC:                            -917.4\n",
      "Df Model:                          15                                         \n",
      "Covariance Type:            nonrobust                                         \n",
      "===============================================================================\n",
      "                  coef    std err          t      P>|t|      [0.025      0.975]\n",
      "-------------------------------------------------------------------------------\n",
      "const          -0.1183      0.046     -2.597      0.010      -0.208      -0.029\n",
      "Year            0.2249      0.008     27.328      0.000       0.209       0.241\n",
      "Temperature     0.4968      0.033     14.862      0.000       0.431       0.562\n",
      "Humidity       -0.1159      0.029     -3.944      0.000      -0.174      -0.058\n",
      "Windspeed      -0.1277      0.023     -5.649      0.000      -0.172      -0.083\n",
      "fall            0.0853      0.020      4.210      0.000       0.046       0.125\n",
      "summer          0.1237      0.015      8.156      0.000       0.094       0.154\n",
      "winter          0.1578      0.013     11.905      0.000       0.132       0.184\n",
      "Mar             0.0314      0.014      2.189      0.029       0.003       0.060\n",
      "Oct             0.0210      0.016      1.329      0.184      -0.010       0.052\n",
      "Sep             0.0743      0.016      4.705      0.000       0.043       0.105\n",
      "Saturday        0.0742      0.025      2.956      0.003       0.025       0.123\n",
      "Sunday          0.0240      0.025      0.959      0.338      -0.025       0.073\n",
      "Working day     0.0632      0.023      2.719      0.007       0.018       0.109\n",
      "Clear           0.2257      0.028      8.146      0.000       0.171       0.280\n",
      "Misty           0.1723      0.025      6.794      0.000       0.122       0.222\n",
      "==============================================================================\n",
      "Omnibus:                       95.422   Durbin-Watson:                   2.017\n",
      "Prob(Omnibus):                  0.000   Jarque-Bera (JB):              251.633\n",
      "Skew:                          -0.926   Prob(JB):                     2.28e-55\n",
      "Kurtosis:                       5.904   Cond. No.                         27.3\n",
      "==============================================================================\n",
      "\n",
      "Notes:\n",
      "[1] Standard Errors assume that the covariance matrix of the errors is correctly specified.\n"
     ]
    }
   ],
   "source": [
    "X_train_rfe = sm.add_constant(X_train_rfe)\n",
    "lr1 = sm.OLS(y_train,X_train_rfe).fit()\n",
    "print(lr1.summary())\n",
    "# Here you can see that almost all the P values are equal to zero and few of them are way high\n",
    "# and also the R squared value is 0.842"
   ]
  },
  {
   "cell_type": "code",
   "execution_count": 70,
   "metadata": {},
   "outputs": [],
   "source": [
    "# Check for the VIF values of the feature variables. \n",
    "from statsmodels.stats.outliers_influence import variance_inflation_factor"
   ]
  },
  {
   "cell_type": "code",
   "execution_count": 71,
   "metadata": {},
   "outputs": [],
   "source": [
    "X_train_rfe = X_train_rfe.drop('const',axis=1)\n",
    "# Dropping Constant for VIF calculation"
   ]
  },
  {
   "cell_type": "code",
   "execution_count": 72,
   "metadata": {},
   "outputs": [
    {
     "data": {
      "text/html": [
       "<div>\n",
       "<style scoped>\n",
       "    .dataframe tbody tr th:only-of-type {\n",
       "        vertical-align: middle;\n",
       "    }\n",
       "\n",
       "    .dataframe tbody tr th {\n",
       "        vertical-align: top;\n",
       "    }\n",
       "\n",
       "    .dataframe thead th {\n",
       "        text-align: right;\n",
       "    }\n",
       "</style>\n",
       "<table border=\"1\" class=\"dataframe\">\n",
       "  <thead>\n",
       "    <tr style=\"text-align: right;\">\n",
       "      <th></th>\n",
       "      <th>Features</th>\n",
       "      <th>VIF</th>\n",
       "    </tr>\n",
       "  </thead>\n",
       "  <tbody>\n",
       "    <tr>\n",
       "      <th>1</th>\n",
       "      <td>Temperature</td>\n",
       "      <td>23.53</td>\n",
       "    </tr>\n",
       "    <tr>\n",
       "      <th>12</th>\n",
       "      <td>Working day</td>\n",
       "      <td>16.89</td>\n",
       "    </tr>\n",
       "    <tr>\n",
       "      <th>13</th>\n",
       "      <td>Clear</td>\n",
       "      <td>12.25</td>\n",
       "    </tr>\n",
       "    <tr>\n",
       "      <th>2</th>\n",
       "      <td>Humidity</td>\n",
       "      <td>11.17</td>\n",
       "    </tr>\n",
       "    <tr>\n",
       "      <th>14</th>\n",
       "      <td>Misty</td>\n",
       "      <td>7.76</td>\n",
       "    </tr>\n",
       "    <tr>\n",
       "      <th>4</th>\n",
       "      <td>fall</td>\n",
       "      <td>6.61</td>\n",
       "    </tr>\n",
       "    <tr>\n",
       "      <th>3</th>\n",
       "      <td>Windspeed</td>\n",
       "      <td>4.55</td>\n",
       "    </tr>\n",
       "    <tr>\n",
       "      <th>11</th>\n",
       "      <td>Sunday</td>\n",
       "      <td>4.51</td>\n",
       "    </tr>\n",
       "    <tr>\n",
       "      <th>10</th>\n",
       "      <td>Saturday</td>\n",
       "      <td>4.41</td>\n",
       "    </tr>\n",
       "    <tr>\n",
       "      <th>5</th>\n",
       "      <td>summer</td>\n",
       "      <td>3.51</td>\n",
       "    </tr>\n",
       "    <tr>\n",
       "      <th>6</th>\n",
       "      <td>winter</td>\n",
       "      <td>2.73</td>\n",
       "    </tr>\n",
       "    <tr>\n",
       "      <th>0</th>\n",
       "      <td>Year</td>\n",
       "      <td>2.10</td>\n",
       "    </tr>\n",
       "    <tr>\n",
       "      <th>8</th>\n",
       "      <td>Oct</td>\n",
       "      <td>1.30</td>\n",
       "    </tr>\n",
       "    <tr>\n",
       "      <th>7</th>\n",
       "      <td>Mar</td>\n",
       "      <td>1.16</td>\n",
       "    </tr>\n",
       "    <tr>\n",
       "      <th>9</th>\n",
       "      <td>Sep</td>\n",
       "      <td>1.15</td>\n",
       "    </tr>\n",
       "  </tbody>\n",
       "</table>\n",
       "</div>"
      ],
      "text/plain": [
       "       Features    VIF\n",
       "1   Temperature  23.53\n",
       "12  Working day  16.89\n",
       "13        Clear  12.25\n",
       "2      Humidity  11.17\n",
       "14        Misty   7.76\n",
       "4          fall   6.61\n",
       "3     Windspeed   4.55\n",
       "11       Sunday   4.51\n",
       "10     Saturday   4.41\n",
       "5        summer   3.51\n",
       "6        winter   2.73\n",
       "0          Year   2.10\n",
       "8           Oct   1.30\n",
       "7           Mar   1.16\n",
       "9           Sep   1.15"
      ]
     },
     "execution_count": 72,
     "metadata": {},
     "output_type": "execute_result"
    }
   ],
   "source": [
    "vif = pd.DataFrame()\n",
    "x = X_train_rfe\n",
    "vif['Features'] = x.columns\n",
    "vif['VIF'] = [variance_inflation_factor(x.values, i) for i in range(x.shape[1])]\n",
    "vif['VIF'] = round(vif['VIF'], 2)\n",
    "vif = vif.sort_values(by = \"VIF\", ascending = False)\n",
    "vif\n",
    "# Here we can see there are multiple values greater than 5"
   ]
  },
  {
   "cell_type": "code",
   "execution_count": 73,
   "metadata": {},
   "outputs": [
    {
     "name": "stdout",
     "output_type": "stream",
     "text": [
      "                            OLS Regression Results                            \n",
      "==============================================================================\n",
      "Dep. Variable:            Total_Count   R-squared:                       0.841\n",
      "Model:                            OLS   Adj. R-squared:                  0.837\n",
      "Method:                 Least Squares   F-statistic:                     187.2\n",
      "Date:                Sun, 06 Feb 2022   Prob (F-statistic):          3.63e-187\n",
      "Time:                        00:54:43   Log-Likelihood:                 508.06\n",
      "No. Observations:                 509   AIC:                            -986.1\n",
      "Df Residuals:                     494   BIC:                            -922.6\n",
      "Df Model:                          14                                         \n",
      "Covariance Type:            nonrobust                                         \n",
      "===============================================================================\n",
      "                  coef    std err          t      P>|t|      [0.025      0.975]\n",
      "-------------------------------------------------------------------------------\n",
      "const          -0.0986      0.041     -2.426      0.016      -0.178      -0.019\n",
      "Year            0.2250      0.008     27.341      0.000       0.209       0.241\n",
      "Temperature     0.4961      0.033     14.848      0.000       0.430       0.562\n",
      "Humidity       -0.1159      0.029     -3.945      0.000      -0.174      -0.058\n",
      "Windspeed      -0.1275      0.023     -5.640      0.000      -0.172      -0.083\n",
      "fall            0.0862      0.020      4.256      0.000       0.046       0.126\n",
      "summer          0.1244      0.015      8.209      0.000       0.095       0.154\n",
      "winter          0.1581      0.013     11.932      0.000       0.132       0.184\n",
      "Mar             0.0317      0.014      2.212      0.027       0.004       0.060\n",
      "Oct             0.0213      0.016      1.351      0.177      -0.010       0.052\n",
      "Sep             0.0751      0.016      4.757      0.000       0.044       0.106\n",
      "Saturday        0.0544      0.014      3.806      0.000       0.026       0.082\n",
      "Working day     0.0435      0.011      4.036      0.000       0.022       0.065\n",
      "Clear           0.2254      0.028      8.135      0.000       0.171       0.280\n",
      "Misty           0.1720      0.025      6.783      0.000       0.122       0.222\n",
      "==============================================================================\n",
      "Omnibus:                       97.469   Durbin-Watson:                   2.016\n",
      "Prob(Omnibus):                  0.000   Jarque-Bera (JB):              260.068\n",
      "Skew:                          -0.941   Prob(JB):                     3.37e-57\n",
      "Kurtosis:                       5.953   Cond. No.                         25.5\n",
      "==============================================================================\n",
      "\n",
      "Notes:\n",
      "[1] Standard Errors assume that the covariance matrix of the errors is correctly specified.\n"
     ]
    }
   ],
   "source": [
    "x = X_train_rfe.drop(['Sunday'],axis=1)\n",
    "X_train_rfe = sm.add_constant(x)\n",
    "lr2 = sm.OLS(y_train,X_train_rfe).fit()\n",
    "print(lr2.summary())\n",
    "# dropping sunday because it has a p value of 0.338"
   ]
  },
  {
   "cell_type": "code",
   "execution_count": 74,
   "metadata": {},
   "outputs": [
    {
     "data": {
      "text/html": [
       "<div>\n",
       "<style scoped>\n",
       "    .dataframe tbody tr th:only-of-type {\n",
       "        vertical-align: middle;\n",
       "    }\n",
       "\n",
       "    .dataframe tbody tr th {\n",
       "        vertical-align: top;\n",
       "    }\n",
       "\n",
       "    .dataframe thead th {\n",
       "        text-align: right;\n",
       "    }\n",
       "</style>\n",
       "<table border=\"1\" class=\"dataframe\">\n",
       "  <thead>\n",
       "    <tr style=\"text-align: right;\">\n",
       "      <th></th>\n",
       "      <th>Features</th>\n",
       "      <th>VIF</th>\n",
       "    </tr>\n",
       "  </thead>\n",
       "  <tbody>\n",
       "    <tr>\n",
       "      <th>1</th>\n",
       "      <td>Temperature</td>\n",
       "      <td>23.53</td>\n",
       "    </tr>\n",
       "    <tr>\n",
       "      <th>2</th>\n",
       "      <td>Humidity</td>\n",
       "      <td>9.65</td>\n",
       "    </tr>\n",
       "    <tr>\n",
       "      <th>12</th>\n",
       "      <td>Clear</td>\n",
       "      <td>8.24</td>\n",
       "    </tr>\n",
       "    <tr>\n",
       "      <th>4</th>\n",
       "      <td>fall</td>\n",
       "      <td>6.59</td>\n",
       "    </tr>\n",
       "    <tr>\n",
       "      <th>13</th>\n",
       "      <td>Misty</td>\n",
       "      <td>6.20</td>\n",
       "    </tr>\n",
       "    <tr>\n",
       "      <th>11</th>\n",
       "      <td>Working day</td>\n",
       "      <td>4.55</td>\n",
       "    </tr>\n",
       "    <tr>\n",
       "      <th>3</th>\n",
       "      <td>Windspeed</td>\n",
       "      <td>4.23</td>\n",
       "    </tr>\n",
       "    <tr>\n",
       "      <th>5</th>\n",
       "      <td>summer</td>\n",
       "      <td>3.50</td>\n",
       "    </tr>\n",
       "    <tr>\n",
       "      <th>6</th>\n",
       "      <td>winter</td>\n",
       "      <td>2.71</td>\n",
       "    </tr>\n",
       "    <tr>\n",
       "      <th>0</th>\n",
       "      <td>Year</td>\n",
       "      <td>2.09</td>\n",
       "    </tr>\n",
       "    <tr>\n",
       "      <th>10</th>\n",
       "      <td>Saturday</td>\n",
       "      <td>1.76</td>\n",
       "    </tr>\n",
       "    <tr>\n",
       "      <th>8</th>\n",
       "      <td>Oct</td>\n",
       "      <td>1.30</td>\n",
       "    </tr>\n",
       "    <tr>\n",
       "      <th>7</th>\n",
       "      <td>Mar</td>\n",
       "      <td>1.16</td>\n",
       "    </tr>\n",
       "    <tr>\n",
       "      <th>9</th>\n",
       "      <td>Sep</td>\n",
       "      <td>1.15</td>\n",
       "    </tr>\n",
       "  </tbody>\n",
       "</table>\n",
       "</div>"
      ],
      "text/plain": [
       "       Features    VIF\n",
       "1   Temperature  23.53\n",
       "2      Humidity   9.65\n",
       "12        Clear   8.24\n",
       "4          fall   6.59\n",
       "13        Misty   6.20\n",
       "11  Working day   4.55\n",
       "3     Windspeed   4.23\n",
       "5        summer   3.50\n",
       "6        winter   2.71\n",
       "0          Year   2.09\n",
       "10     Saturday   1.76\n",
       "8           Oct   1.30\n",
       "7           Mar   1.16\n",
       "9           Sep   1.15"
      ]
     },
     "execution_count": 74,
     "metadata": {},
     "output_type": "execute_result"
    }
   ],
   "source": [
    "vif = pd.DataFrame()\n",
    "vif['Features'] = x.columns\n",
    "vif['VIF'] = [variance_inflation_factor(x.values, i) for i in range(x.shape[1])]\n",
    "vif['VIF'] = round(vif['VIF'], 2)\n",
    "vif = vif.sort_values(by = \"VIF\", ascending = False)\n",
    "vif"
   ]
  },
  {
   "cell_type": "code",
   "execution_count": 75,
   "metadata": {},
   "outputs": [
    {
     "name": "stdout",
     "output_type": "stream",
     "text": [
      "                            OLS Regression Results                            \n",
      "==============================================================================\n",
      "Dep. Variable:            Total_Count   R-squared:                       0.841\n",
      "Model:                            OLS   Adj. R-squared:                  0.837\n",
      "Method:                 Least Squares   F-statistic:                     201.1\n",
      "Date:                Sun, 06 Feb 2022   Prob (F-statistic):          6.21e-188\n",
      "Time:                        00:54:43   Log-Likelihood:                 507.12\n",
      "No. Observations:                 509   AIC:                            -986.2\n",
      "Df Residuals:                     495   BIC:                            -927.0\n",
      "Df Model:                          13                                         \n",
      "Covariance Type:            nonrobust                                         \n",
      "===============================================================================\n",
      "                  coef    std err          t      P>|t|      [0.025      0.975]\n",
      "-------------------------------------------------------------------------------\n",
      "const          -0.0997      0.041     -2.452      0.015      -0.180      -0.020\n",
      "Year            0.2251      0.008     27.333      0.000       0.209       0.241\n",
      "Temperature     0.5019      0.033     15.130      0.000       0.437       0.567\n",
      "Humidity       -0.1160      0.029     -3.944      0.000      -0.174      -0.058\n",
      "Windspeed      -0.1264      0.023     -5.592      0.000      -0.171      -0.082\n",
      "fall            0.0839      0.020      4.152      0.000       0.044       0.124\n",
      "summer          0.1226      0.015      8.115      0.000       0.093       0.152\n",
      "winter          0.1623      0.013     12.579      0.000       0.137       0.188\n",
      "Mar             0.0305      0.014      2.130      0.034       0.002       0.059\n",
      "Sep             0.0729      0.016      4.638      0.000       0.042       0.104\n",
      "Saturday        0.0551      0.014      3.854      0.000       0.027       0.083\n",
      "Working day     0.0434      0.011      4.024      0.000       0.022       0.065\n",
      "Clear           0.2250      0.028      8.114      0.000       0.170       0.279\n",
      "Misty           0.1718      0.025      6.772      0.000       0.122       0.222\n",
      "==============================================================================\n",
      "Omnibus:                       92.794   Durbin-Watson:                   2.022\n",
      "Prob(Omnibus):                  0.000   Jarque-Bera (JB):              238.946\n",
      "Skew:                          -0.910   Prob(JB):                     1.30e-52\n",
      "Kurtosis:                       5.820   Cond. No.                         25.5\n",
      "==============================================================================\n",
      "\n",
      "Notes:\n",
      "[1] Standard Errors assume that the covariance matrix of the errors is correctly specified.\n"
     ]
    }
   ],
   "source": [
    "x=x.drop(['Oct'],axis=1)\n",
    "X_train_rfe = sm.add_constant(x)\n",
    "lr3 = sm.OLS(y_train,X_train_rfe).fit()\n",
    "print(lr3.summary())\n",
    "# here P value of Oct is 0.177 lets drop it"
   ]
  },
  {
   "cell_type": "code",
   "execution_count": 76,
   "metadata": {},
   "outputs": [
    {
     "data": {
      "text/html": [
       "<div>\n",
       "<style scoped>\n",
       "    .dataframe tbody tr th:only-of-type {\n",
       "        vertical-align: middle;\n",
       "    }\n",
       "\n",
       "    .dataframe tbody tr th {\n",
       "        vertical-align: top;\n",
       "    }\n",
       "\n",
       "    .dataframe thead th {\n",
       "        text-align: right;\n",
       "    }\n",
       "</style>\n",
       "<table border=\"1\" class=\"dataframe\">\n",
       "  <thead>\n",
       "    <tr style=\"text-align: right;\">\n",
       "      <th></th>\n",
       "      <th>Features</th>\n",
       "      <th>VIF</th>\n",
       "    </tr>\n",
       "  </thead>\n",
       "  <tbody>\n",
       "    <tr>\n",
       "      <th>1</th>\n",
       "      <td>Temperature</td>\n",
       "      <td>23.15</td>\n",
       "    </tr>\n",
       "    <tr>\n",
       "      <th>2</th>\n",
       "      <td>Humidity</td>\n",
       "      <td>9.64</td>\n",
       "    </tr>\n",
       "    <tr>\n",
       "      <th>11</th>\n",
       "      <td>Clear</td>\n",
       "      <td>8.22</td>\n",
       "    </tr>\n",
       "    <tr>\n",
       "      <th>4</th>\n",
       "      <td>fall</td>\n",
       "      <td>6.54</td>\n",
       "    </tr>\n",
       "    <tr>\n",
       "      <th>12</th>\n",
       "      <td>Misty</td>\n",
       "      <td>6.19</td>\n",
       "    </tr>\n",
       "    <tr>\n",
       "      <th>10</th>\n",
       "      <td>Working day</td>\n",
       "      <td>4.55</td>\n",
       "    </tr>\n",
       "    <tr>\n",
       "      <th>3</th>\n",
       "      <td>Windspeed</td>\n",
       "      <td>4.23</td>\n",
       "    </tr>\n",
       "    <tr>\n",
       "      <th>5</th>\n",
       "      <td>summer</td>\n",
       "      <td>3.47</td>\n",
       "    </tr>\n",
       "    <tr>\n",
       "      <th>6</th>\n",
       "      <td>winter</td>\n",
       "      <td>2.56</td>\n",
       "    </tr>\n",
       "    <tr>\n",
       "      <th>0</th>\n",
       "      <td>Year</td>\n",
       "      <td>2.09</td>\n",
       "    </tr>\n",
       "    <tr>\n",
       "      <th>9</th>\n",
       "      <td>Saturday</td>\n",
       "      <td>1.76</td>\n",
       "    </tr>\n",
       "    <tr>\n",
       "      <th>7</th>\n",
       "      <td>Mar</td>\n",
       "      <td>1.15</td>\n",
       "    </tr>\n",
       "    <tr>\n",
       "      <th>8</th>\n",
       "      <td>Sep</td>\n",
       "      <td>1.14</td>\n",
       "    </tr>\n",
       "  </tbody>\n",
       "</table>\n",
       "</div>"
      ],
      "text/plain": [
       "       Features    VIF\n",
       "1   Temperature  23.15\n",
       "2      Humidity   9.64\n",
       "11        Clear   8.22\n",
       "4          fall   6.54\n",
       "12        Misty   6.19\n",
       "10  Working day   4.55\n",
       "3     Windspeed   4.23\n",
       "5        summer   3.47\n",
       "6        winter   2.56\n",
       "0          Year   2.09\n",
       "9      Saturday   1.76\n",
       "7           Mar   1.15\n",
       "8           Sep   1.14"
      ]
     },
     "execution_count": 76,
     "metadata": {},
     "output_type": "execute_result"
    }
   ],
   "source": [
    "vif = pd.DataFrame()\n",
    "vif['Features'] = x.columns\n",
    "vif['VIF'] = [variance_inflation_factor(x.values, i) for i in range(x.shape[1])]\n",
    "vif['VIF'] = round(vif['VIF'], 2)\n",
    "vif = vif.sort_values(by = \"VIF\", ascending = False)\n",
    "vif"
   ]
  },
  {
   "cell_type": "code",
   "execution_count": 77,
   "metadata": {},
   "outputs": [
    {
     "name": "stdout",
     "output_type": "stream",
     "text": [
      "                            OLS Regression Results                            \n",
      "==============================================================================\n",
      "Dep. Variable:            Total_Count   R-squared:                       0.839\n",
      "Model:                            OLS   Adj. R-squared:                  0.835\n",
      "Method:                 Least Squares   F-statistic:                     216.0\n",
      "Date:                Sun, 06 Feb 2022   Prob (F-statistic):          3.92e-188\n",
      "Time:                        00:54:43   Log-Likelihood:                 504.80\n",
      "No. Observations:                 509   AIC:                            -983.6\n",
      "Df Residuals:                     496   BIC:                            -928.6\n",
      "Df Model:                          12                                         \n",
      "Covariance Type:            nonrobust                                         \n",
      "===============================================================================\n",
      "                  coef    std err          t      P>|t|      [0.025      0.975]\n",
      "-------------------------------------------------------------------------------\n",
      "const          -0.0876      0.040     -2.169      0.031      -0.167      -0.008\n",
      "Year            0.2246      0.008     27.181      0.000       0.208       0.241\n",
      "Temperature     0.4992      0.033     15.006      0.000       0.434       0.565\n",
      "Humidity       -0.1219      0.029     -4.151      0.000      -0.180      -0.064\n",
      "Windspeed      -0.1320      0.023     -5.855      0.000      -0.176      -0.088\n",
      "fall            0.0834      0.020      4.115      0.000       0.044       0.123\n",
      "summer          0.1253      0.015      8.295      0.000       0.096       0.155\n",
      "winter          0.1608      0.013     12.439      0.000       0.135       0.186\n",
      "Sep             0.0704      0.016      4.476      0.000       0.039       0.101\n",
      "Saturday        0.0553      0.014      3.855      0.000       0.027       0.083\n",
      "Working day     0.0433      0.011      4.006      0.000       0.022       0.065\n",
      "Clear           0.2217      0.028      7.979      0.000       0.167       0.276\n",
      "Misty           0.1711      0.025      6.719      0.000       0.121       0.221\n",
      "==============================================================================\n",
      "Omnibus:                       91.755   Durbin-Watson:                   2.022\n",
      "Prob(Omnibus):                  0.000   Jarque-Bera (JB):              250.462\n",
      "Skew:                          -0.880   Prob(JB):                     4.10e-55\n",
      "Kurtosis:                       5.952   Cond. No.                         25.3\n",
      "==============================================================================\n",
      "\n",
      "Notes:\n",
      "[1] Standard Errors assume that the covariance matrix of the errors is correctly specified.\n"
     ]
    }
   ],
   "source": [
    "x=x.drop(['Mar'],axis=1)\n",
    "X_train_rfe = sm.add_constant(x)\n",
    "lr4 = sm.OLS(y_train,X_train_rfe).fit()\n",
    "print(lr4.summary())\n",
    "# here P value of March is bz it has p value "
   ]
  },
  {
   "cell_type": "code",
   "execution_count": 78,
   "metadata": {},
   "outputs": [
    {
     "data": {
      "text/html": [
       "<div>\n",
       "<style scoped>\n",
       "    .dataframe tbody tr th:only-of-type {\n",
       "        vertical-align: middle;\n",
       "    }\n",
       "\n",
       "    .dataframe tbody tr th {\n",
       "        vertical-align: top;\n",
       "    }\n",
       "\n",
       "    .dataframe thead th {\n",
       "        text-align: right;\n",
       "    }\n",
       "</style>\n",
       "<table border=\"1\" class=\"dataframe\">\n",
       "  <thead>\n",
       "    <tr style=\"text-align: right;\">\n",
       "      <th></th>\n",
       "      <th>Features</th>\n",
       "      <th>VIF</th>\n",
       "    </tr>\n",
       "  </thead>\n",
       "  <tbody>\n",
       "    <tr>\n",
       "      <th>1</th>\n",
       "      <td>Temperature</td>\n",
       "      <td>23.13</td>\n",
       "    </tr>\n",
       "    <tr>\n",
       "      <th>2</th>\n",
       "      <td>Humidity</td>\n",
       "      <td>9.64</td>\n",
       "    </tr>\n",
       "    <tr>\n",
       "      <th>10</th>\n",
       "      <td>Clear</td>\n",
       "      <td>8.10</td>\n",
       "    </tr>\n",
       "    <tr>\n",
       "      <th>4</th>\n",
       "      <td>fall</td>\n",
       "      <td>6.54</td>\n",
       "    </tr>\n",
       "    <tr>\n",
       "      <th>11</th>\n",
       "      <td>Misty</td>\n",
       "      <td>6.07</td>\n",
       "    </tr>\n",
       "    <tr>\n",
       "      <th>9</th>\n",
       "      <td>Working day</td>\n",
       "      <td>4.54</td>\n",
       "    </tr>\n",
       "    <tr>\n",
       "      <th>3</th>\n",
       "      <td>Windspeed</td>\n",
       "      <td>4.21</td>\n",
       "    </tr>\n",
       "    <tr>\n",
       "      <th>5</th>\n",
       "      <td>summer</td>\n",
       "      <td>3.45</td>\n",
       "    </tr>\n",
       "    <tr>\n",
       "      <th>6</th>\n",
       "      <td>winter</td>\n",
       "      <td>2.56</td>\n",
       "    </tr>\n",
       "    <tr>\n",
       "      <th>0</th>\n",
       "      <td>Year</td>\n",
       "      <td>2.08</td>\n",
       "    </tr>\n",
       "    <tr>\n",
       "      <th>8</th>\n",
       "      <td>Saturday</td>\n",
       "      <td>1.76</td>\n",
       "    </tr>\n",
       "    <tr>\n",
       "      <th>7</th>\n",
       "      <td>Sep</td>\n",
       "      <td>1.13</td>\n",
       "    </tr>\n",
       "  </tbody>\n",
       "</table>\n",
       "</div>"
      ],
      "text/plain": [
       "       Features    VIF\n",
       "1   Temperature  23.13\n",
       "2      Humidity   9.64\n",
       "10        Clear   8.10\n",
       "4          fall   6.54\n",
       "11        Misty   6.07\n",
       "9   Working day   4.54\n",
       "3     Windspeed   4.21\n",
       "5        summer   3.45\n",
       "6        winter   2.56\n",
       "0          Year   2.08\n",
       "8      Saturday   1.76\n",
       "7           Sep   1.13"
      ]
     },
     "execution_count": 78,
     "metadata": {},
     "output_type": "execute_result"
    }
   ],
   "source": [
    "vif = pd.DataFrame()\n",
    "vif['Features'] = x.columns\n",
    "vif['VIF'] = [variance_inflation_factor(x.values, i) for i in range(x.shape[1])]\n",
    "vif['VIF'] = round(vif['VIF'], 2)\n",
    "vif = vif.sort_values(by = \"VIF\", ascending = False)\n",
    "vif"
   ]
  },
  {
   "cell_type": "code",
   "execution_count": 79,
   "metadata": {},
   "outputs": [
    {
     "name": "stdout",
     "output_type": "stream",
     "text": [
      "                            OLS Regression Results                            \n",
      "==============================================================================\n",
      "Dep. Variable:            Total_Count   R-squared:                       0.834\n",
      "Model:                            OLS   Adj. R-squared:                  0.830\n",
      "Method:                 Least Squares   F-statistic:                     226.6\n",
      "Date:                Sun, 06 Feb 2022   Prob (F-statistic):          1.17e-185\n",
      "Time:                        00:54:44   Log-Likelihood:                 496.11\n",
      "No. Observations:                 509   AIC:                            -968.2\n",
      "Df Residuals:                     497   BIC:                            -917.4\n",
      "Df Model:                          11                                         \n",
      "Covariance Type:            nonrobust                                         \n",
      "===============================================================================\n",
      "                  coef    std err          t      P>|t|      [0.025      0.975]\n",
      "-------------------------------------------------------------------------------\n",
      "const          -0.1980      0.031     -6.407      0.000      -0.259      -0.137\n",
      "Year            0.2304      0.008     27.852      0.000       0.214       0.247\n",
      "Temperature     0.4644      0.033     14.196      0.000       0.400       0.529\n",
      "Windspeed      -0.1039      0.022     -4.755      0.000      -0.147      -0.061\n",
      "fall            0.0948      0.020      4.648      0.000       0.055       0.135\n",
      "summer          0.1288      0.015      8.403      0.000       0.099       0.159\n",
      "winter          0.1575      0.013     12.010      0.000       0.132       0.183\n",
      "Sep             0.0658      0.016      4.130      0.000       0.035       0.097\n",
      "Saturday        0.0556      0.015      3.811      0.000       0.027       0.084\n",
      "Working day     0.0457      0.011      4.162      0.000       0.024       0.067\n",
      "Clear           0.2802      0.024     11.521      0.000       0.232       0.328\n",
      "Misty           0.2018      0.025      8.152      0.000       0.153       0.250\n",
      "==============================================================================\n",
      "Omnibus:                       88.150   Durbin-Watson:                   2.038\n",
      "Prob(Omnibus):                  0.000   Jarque-Bera (JB):              236.426\n",
      "Skew:                          -0.852   Prob(JB):                     4.58e-52\n",
      "Kurtosis:                       5.871   Cond. No.                         18.8\n",
      "==============================================================================\n",
      "\n",
      "Notes:\n",
      "[1] Standard Errors assume that the covariance matrix of the errors is correctly specified.\n"
     ]
    }
   ],
   "source": [
    "x=x.drop(['Humidity'],axis=1)\n",
    "X_train_rfe = sm.add_constant(x)\n",
    "lrr = sm.OLS(y_train,X_train_rfe).fit()\n",
    "print(lrr.summary())\n",
    "# dropping humidity and lets check if there is any reduction in VIF"
   ]
  },
  {
   "cell_type": "code",
   "execution_count": 80,
   "metadata": {},
   "outputs": [
    {
     "data": {
      "text/html": [
       "<div>\n",
       "<style scoped>\n",
       "    .dataframe tbody tr th:only-of-type {\n",
       "        vertical-align: middle;\n",
       "    }\n",
       "\n",
       "    .dataframe tbody tr th {\n",
       "        vertical-align: top;\n",
       "    }\n",
       "\n",
       "    .dataframe thead th {\n",
       "        text-align: right;\n",
       "    }\n",
       "</style>\n",
       "<table border=\"1\" class=\"dataframe\">\n",
       "  <thead>\n",
       "    <tr style=\"text-align: right;\">\n",
       "      <th></th>\n",
       "      <th>Features</th>\n",
       "      <th>VIF</th>\n",
       "    </tr>\n",
       "  </thead>\n",
       "  <tbody>\n",
       "    <tr>\n",
       "      <th>1</th>\n",
       "      <td>Temperature</td>\n",
       "      <td>20.14</td>\n",
       "    </tr>\n",
       "    <tr>\n",
       "      <th>9</th>\n",
       "      <td>Clear</td>\n",
       "      <td>7.97</td>\n",
       "    </tr>\n",
       "    <tr>\n",
       "      <th>3</th>\n",
       "      <td>fall</td>\n",
       "      <td>6.42</td>\n",
       "    </tr>\n",
       "    <tr>\n",
       "      <th>10</th>\n",
       "      <td>Misty</td>\n",
       "      <td>4.97</td>\n",
       "    </tr>\n",
       "    <tr>\n",
       "      <th>8</th>\n",
       "      <td>Working day</td>\n",
       "      <td>4.41</td>\n",
       "    </tr>\n",
       "    <tr>\n",
       "      <th>2</th>\n",
       "      <td>Windspeed</td>\n",
       "      <td>4.21</td>\n",
       "    </tr>\n",
       "    <tr>\n",
       "      <th>4</th>\n",
       "      <td>summer</td>\n",
       "      <td>3.44</td>\n",
       "    </tr>\n",
       "    <tr>\n",
       "      <th>5</th>\n",
       "      <td>winter</td>\n",
       "      <td>2.46</td>\n",
       "    </tr>\n",
       "    <tr>\n",
       "      <th>0</th>\n",
       "      <td>Year</td>\n",
       "      <td>2.06</td>\n",
       "    </tr>\n",
       "    <tr>\n",
       "      <th>7</th>\n",
       "      <td>Saturday</td>\n",
       "      <td>1.72</td>\n",
       "    </tr>\n",
       "    <tr>\n",
       "      <th>6</th>\n",
       "      <td>Sep</td>\n",
       "      <td>1.13</td>\n",
       "    </tr>\n",
       "  </tbody>\n",
       "</table>\n",
       "</div>"
      ],
      "text/plain": [
       "       Features    VIF\n",
       "1   Temperature  20.14\n",
       "9         Clear   7.97\n",
       "3          fall   6.42\n",
       "10        Misty   4.97\n",
       "8   Working day   4.41\n",
       "2     Windspeed   4.21\n",
       "4        summer   3.44\n",
       "5        winter   2.46\n",
       "0          Year   2.06\n",
       "7      Saturday   1.72\n",
       "6           Sep   1.13"
      ]
     },
     "execution_count": 80,
     "metadata": {},
     "output_type": "execute_result"
    }
   ],
   "source": [
    "vif = pd.DataFrame()\n",
    "vif['Features'] = x.columns\n",
    "vif['VIF'] = [variance_inflation_factor(x.values, i) for i in range(x.shape[1])]\n",
    "vif['VIF'] = round(vif['VIF'], 2)\n",
    "vif = vif.sort_values(by = \"VIF\", ascending = False)\n",
    "vif\n",
    "# There is a drop in VIF"
   ]
  },
  {
   "cell_type": "code",
   "execution_count": 82,
   "metadata": {},
   "outputs": [
    {
     "name": "stdout",
     "output_type": "stream",
     "text": [
      "                            OLS Regression Results                            \n",
      "==============================================================================\n",
      "Dep. Variable:            Total_Count   R-squared:                       0.827\n",
      "Model:                            OLS   Adj. R-squared:                  0.823\n",
      "Method:                 Least Squares   F-statistic:                     237.3\n",
      "Date:                Sun, 06 Feb 2022   Prob (F-statistic):          2.79e-182\n",
      "Time:                        00:54:51   Log-Likelihood:                 485.28\n",
      "No. Observations:                 509   AIC:                            -948.6\n",
      "Df Residuals:                     498   BIC:                            -902.0\n",
      "Df Model:                          10                                         \n",
      "Covariance Type:            nonrobust                                         \n",
      "===============================================================================\n",
      "                  coef    std err          t      P>|t|      [0.025      0.975]\n",
      "-------------------------------------------------------------------------------\n",
      "const          -0.2041      0.032     -6.478      0.000      -0.266      -0.142\n",
      "Year            0.2279      0.008     27.054      0.000       0.211       0.244\n",
      "Temperature     0.5872      0.020     29.819      0.000       0.548       0.626\n",
      "Windspeed      -0.1136      0.022     -5.121      0.000      -0.157      -0.070\n",
      "summer          0.0757      0.010      7.254      0.000       0.055       0.096\n",
      "winter          0.1203      0.011     11.344      0.000       0.099       0.141\n",
      "Sep             0.0751      0.016      4.653      0.000       0.043       0.107\n",
      "Saturday        0.0579      0.015      3.895      0.000       0.029       0.087\n",
      "Working day     0.0445      0.011      3.971      0.000       0.022       0.066\n",
      "Clear           0.2721      0.025     10.990      0.000       0.223       0.321\n",
      "Misty           0.1931      0.025      7.665      0.000       0.144       0.243\n",
      "==============================================================================\n",
      "Omnibus:                       77.717   Durbin-Watson:                   2.061\n",
      "Prob(Omnibus):                  0.000   Jarque-Bera (JB):              177.824\n",
      "Skew:                          -0.808   Prob(JB):                     2.43e-39\n",
      "Kurtosis:                       5.403   Cond. No.                         18.5\n",
      "==============================================================================\n",
      "\n",
      "Notes:\n",
      "[1] Standard Errors assume that the covariance matrix of the errors is correctly specified.\n"
     ]
    }
   ],
   "source": [
    "x = x.drop(['fall'],axis=1)\n",
    "X_train_rfe = sm.add_constant(x)\n",
    "lr5 = sm.OLS(y_train, X_train_rfe).fit()\n",
    "print(lr5.summary())\n",
    "# dropping fall and lets check if there is any reduction in VIF"
   ]
  },
  {
   "cell_type": "code",
   "execution_count": 83,
   "metadata": {},
   "outputs": [
    {
     "data": {
      "text/html": [
       "<div>\n",
       "<style scoped>\n",
       "    .dataframe tbody tr th:only-of-type {\n",
       "        vertical-align: middle;\n",
       "    }\n",
       "\n",
       "    .dataframe tbody tr th {\n",
       "        vertical-align: top;\n",
       "    }\n",
       "\n",
       "    .dataframe thead th {\n",
       "        text-align: right;\n",
       "    }\n",
       "</style>\n",
       "<table border=\"1\" class=\"dataframe\">\n",
       "  <thead>\n",
       "    <tr style=\"text-align: right;\">\n",
       "      <th></th>\n",
       "      <th>Features</th>\n",
       "      <th>VIF</th>\n",
       "    </tr>\n",
       "  </thead>\n",
       "  <tbody>\n",
       "    <tr>\n",
       "      <th>8</th>\n",
       "      <td>Clear</td>\n",
       "      <td>7.73</td>\n",
       "    </tr>\n",
       "    <tr>\n",
       "      <th>1</th>\n",
       "      <td>Temperature</td>\n",
       "      <td>6.38</td>\n",
       "    </tr>\n",
       "    <tr>\n",
       "      <th>9</th>\n",
       "      <td>Misty</td>\n",
       "      <td>4.81</td>\n",
       "    </tr>\n",
       "    <tr>\n",
       "      <th>7</th>\n",
       "      <td>Working day</td>\n",
       "      <td>4.40</td>\n",
       "    </tr>\n",
       "    <tr>\n",
       "      <th>2</th>\n",
       "      <td>Windspeed</td>\n",
       "      <td>4.14</td>\n",
       "    </tr>\n",
       "    <tr>\n",
       "      <th>0</th>\n",
       "      <td>Year</td>\n",
       "      <td>2.05</td>\n",
       "    </tr>\n",
       "    <tr>\n",
       "      <th>6</th>\n",
       "      <td>Saturday</td>\n",
       "      <td>1.71</td>\n",
       "    </tr>\n",
       "    <tr>\n",
       "      <th>3</th>\n",
       "      <td>summer</td>\n",
       "      <td>1.53</td>\n",
       "    </tr>\n",
       "    <tr>\n",
       "      <th>4</th>\n",
       "      <td>winter</td>\n",
       "      <td>1.46</td>\n",
       "    </tr>\n",
       "    <tr>\n",
       "      <th>5</th>\n",
       "      <td>Sep</td>\n",
       "      <td>1.11</td>\n",
       "    </tr>\n",
       "  </tbody>\n",
       "</table>\n",
       "</div>"
      ],
      "text/plain": [
       "      Features   VIF\n",
       "8        Clear  7.73\n",
       "1  Temperature  6.38\n",
       "9        Misty  4.81\n",
       "7  Working day  4.40\n",
       "2    Windspeed  4.14\n",
       "0         Year  2.05\n",
       "6     Saturday  1.71\n",
       "3       summer  1.53\n",
       "4       winter  1.46\n",
       "5          Sep  1.11"
      ]
     },
     "execution_count": 83,
     "metadata": {},
     "output_type": "execute_result"
    }
   ],
   "source": [
    "vif = pd.DataFrame()\n",
    "vif['Features'] = x.columns\n",
    "vif['VIF'] = [variance_inflation_factor(x.values, i) for i in range(x.shape[1])]\n",
    "vif['VIF'] = round(vif['VIF'], 2)\n",
    "vif = vif.sort_values(by = \"VIF\", ascending = False)\n",
    "vif\n",
    "# there is major drop in VIF"
   ]
  },
  {
   "cell_type": "code",
   "execution_count": 84,
   "metadata": {},
   "outputs": [
    {
     "name": "stdout",
     "output_type": "stream",
     "text": [
      "                            OLS Regression Results                            \n",
      "==============================================================================\n",
      "Dep. Variable:            Total_Count   R-squared:                       0.806\n",
      "Model:                            OLS   Adj. R-squared:                  0.803\n",
      "Method:                 Least Squares   F-statistic:                     230.5\n",
      "Date:                Sun, 06 Feb 2022   Prob (F-statistic):          1.85e-171\n",
      "Time:                        00:55:15   Log-Likelihood:                 456.90\n",
      "No. Observations:                 509   AIC:                            -893.8\n",
      "Df Residuals:                     499   BIC:                            -851.5\n",
      "Df Model:                           9                                         \n",
      "Covariance Type:            nonrobust                                         \n",
      "===============================================================================\n",
      "                  coef    std err          t      P>|t|      [0.025      0.975]\n",
      "-------------------------------------------------------------------------------\n",
      "const          -0.0121      0.020     -0.601      0.548      -0.052       0.028\n",
      "Year            0.2324      0.009     26.181      0.000       0.215       0.250\n",
      "Temperature     0.5790      0.021     27.880      0.000       0.538       0.620\n",
      "Windspeed      -0.1339      0.023     -5.754      0.000      -0.180      -0.088\n",
      "summer          0.0781      0.011      7.087      0.000       0.056       0.100\n",
      "winter          0.1080      0.011      9.757      0.000       0.086       0.130\n",
      "Sep             0.0844      0.017      4.966      0.000       0.051       0.118\n",
      "Saturday        0.0559      0.016      3.561      0.000       0.025       0.087\n",
      "Working day     0.0407      0.012      3.445      0.001       0.018       0.064\n",
      "Clear           0.0944      0.009     10.282      0.000       0.076       0.112\n",
      "==============================================================================\n",
      "Omnibus:                       99.382   Durbin-Watson:                   2.012\n",
      "Prob(Omnibus):                  0.000   Jarque-Bera (JB):              257.738\n",
      "Skew:                          -0.969   Prob(JB):                     1.08e-56\n",
      "Kurtosis:                       5.897   Cond. No.                         11.2\n",
      "==============================================================================\n",
      "\n",
      "Notes:\n",
      "[1] Standard Errors assume that the covariance matrix of the errors is correctly specified.\n"
     ]
    }
   ],
   "source": [
    "x = x.drop(['Misty'],axis=1)\n",
    "X_train_lm = sm.add_constant(x)\n",
    "lr6 = sm.OLS(y_train, X_train_lm).fit()\n",
    "print(lr6.summary())\n",
    "# dropping Mist and lets check if there is any reduction in VIF"
   ]
  },
  {
   "cell_type": "code",
   "execution_count": 85,
   "metadata": {},
   "outputs": [
    {
     "data": {
      "text/html": [
       "<div>\n",
       "<style scoped>\n",
       "    .dataframe tbody tr th:only-of-type {\n",
       "        vertical-align: middle;\n",
       "    }\n",
       "\n",
       "    .dataframe tbody tr th {\n",
       "        vertical-align: top;\n",
       "    }\n",
       "\n",
       "    .dataframe thead th {\n",
       "        text-align: right;\n",
       "    }\n",
       "</style>\n",
       "<table border=\"1\" class=\"dataframe\">\n",
       "  <thead>\n",
       "    <tr style=\"text-align: right;\">\n",
       "      <th></th>\n",
       "      <th>Features</th>\n",
       "      <th>VIF</th>\n",
       "    </tr>\n",
       "  </thead>\n",
       "  <tbody>\n",
       "    <tr>\n",
       "      <th>1</th>\n",
       "      <td>Temperature</td>\n",
       "      <td>5.01</td>\n",
       "    </tr>\n",
       "    <tr>\n",
       "      <th>7</th>\n",
       "      <td>Working day</td>\n",
       "      <td>3.84</td>\n",
       "    </tr>\n",
       "    <tr>\n",
       "      <th>2</th>\n",
       "      <td>Windspeed</td>\n",
       "      <td>3.50</td>\n",
       "    </tr>\n",
       "    <tr>\n",
       "      <th>8</th>\n",
       "      <td>Clear</td>\n",
       "      <td>2.46</td>\n",
       "    </tr>\n",
       "    <tr>\n",
       "      <th>0</th>\n",
       "      <td>Year</td>\n",
       "      <td>1.99</td>\n",
       "    </tr>\n",
       "    <tr>\n",
       "      <th>6</th>\n",
       "      <td>Saturday</td>\n",
       "      <td>1.57</td>\n",
       "    </tr>\n",
       "    <tr>\n",
       "      <th>3</th>\n",
       "      <td>summer</td>\n",
       "      <td>1.52</td>\n",
       "    </tr>\n",
       "    <tr>\n",
       "      <th>4</th>\n",
       "      <td>winter</td>\n",
       "      <td>1.41</td>\n",
       "    </tr>\n",
       "    <tr>\n",
       "      <th>5</th>\n",
       "      <td>Sep</td>\n",
       "      <td>1.10</td>\n",
       "    </tr>\n",
       "  </tbody>\n",
       "</table>\n",
       "</div>"
      ],
      "text/plain": [
       "      Features   VIF\n",
       "1  Temperature  5.01\n",
       "7  Working day  3.84\n",
       "2    Windspeed  3.50\n",
       "8        Clear  2.46\n",
       "0         Year  1.99\n",
       "6     Saturday  1.57\n",
       "3       summer  1.52\n",
       "4       winter  1.41\n",
       "5          Sep  1.10"
      ]
     },
     "execution_count": 85,
     "metadata": {},
     "output_type": "execute_result"
    }
   ],
   "source": [
    "vif = pd.DataFrame()\n",
    "vif['Features'] = x.columns\n",
    "vif['VIF'] = [variance_inflation_factor(x.values, i) for i in range(x.shape[1])]\n",
    "vif['VIF'] = round(vif['VIF'], 2)\n",
    "vif = vif.sort_values(by = \"VIF\", ascending = False)\n",
    "vif\n",
    "# almost all values are around 5 lets go to residual analysis of the data"
   ]
  },
  {
   "cell_type": "markdown",
   "metadata": {},
   "source": [
    "# RESIDUAL ANALYSIS OF THE DATA"
   ]
  },
  {
   "cell_type": "code",
   "execution_count": 86,
   "metadata": {},
   "outputs": [],
   "source": [
    "X_train_new = X_train_lm.drop('const',axis=1)"
   ]
  },
  {
   "cell_type": "code",
   "execution_count": 87,
   "metadata": {},
   "outputs": [],
   "source": [
    "y_train_pred = lr6.predict(X_train_lm)"
   ]
  },
  {
   "cell_type": "code",
   "execution_count": 88,
   "metadata": {},
   "outputs": [
    {
     "data": {
      "image/png": "[encoded data removed]",
      "text/plain": [
       "<Figure size 432x288 with 1 Axes>"
      ]
     },
     "metadata": {},
     "output_type": "display_data"
    }
   ],
   "source": [
    "fig = plt.figure()\n",
    "sns.histplot((y_train - y_train_pred), bins = 20,kde=True)\n",
    "plt.title('Error Terms', fontsize = 20)\n",
    "plt.xlabel('Errors', fontsize = 18)   \n",
    "plt.show()\n",
    "# As you can see it is a normal curve"
   ]
  },
  {
   "cell_type": "markdown",
   "metadata": {},
   "source": [
    "# MAKING PREDICTIONS"
   ]
  },
  {
   "cell_type": "code",
   "execution_count": 89,
   "metadata": {},
   "outputs": [],
   "source": [
    "vars = ['Temperature', 'Humidity', 'Windspeed','Total_Count']\n",
    "\n",
    "df_test[vars] = scaler.transform(df_test[vars])\n"
   ]
  },
  {
   "cell_type": "markdown",
   "metadata": {},
   "source": [
    "Dividing in to x and y sets"
   ]
  },
  {
   "cell_type": "code",
   "execution_count": 90,
   "metadata": {},
   "outputs": [],
   "source": [
    "X_test = df_test\n",
    "y_test = df_test.pop('Total_Count')"
   ]
  },
  {
   "cell_type": "markdown",
   "metadata": {},
   "source": [
    "Using our model to make predictions"
   ]
  },
  {
   "cell_type": "code",
   "execution_count": 91,
   "metadata": {},
   "outputs": [
    {
     "name": "stdout",
     "output_type": "stream",
     "text": [
      "<class 'pandas.core.frame.DataFrame'>\n",
      "Int64Index: 219 entries, 241 to 425\n",
      "Data columns (total 10 columns):\n",
      " #   Column       Non-Null Count  Dtype  \n",
      "---  ------       --------------  -----  \n",
      " 0   const        219 non-null    float64\n",
      " 1   Year         219 non-null    int64  \n",
      " 2   Temperature  219 non-null    float64\n",
      " 3   Windspeed    219 non-null    float64\n",
      " 4   summer       219 non-null    uint8  \n",
      " 5   winter       219 non-null    uint8  \n",
      " 6   Sep          219 non-null    uint8  \n",
      " 7   Saturday     219 non-null    uint8  \n",
      " 8   Working day  219 non-null    uint8  \n",
      " 9   Clear        219 non-null    uint8  \n",
      "dtypes: float64(3), int64(1), uint8(6)\n",
      "memory usage: 9.8 KB\n"
     ]
    }
   ],
   "source": [
    "X_test_new = X_test[X_train_new.columns]\n",
    "X_test_new = sm.add_constant(X_test_new)\n",
    "X_test_new.info()"
   ]
  },
  {
   "cell_type": "code",
   "execution_count": 92,
   "metadata": {},
   "outputs": [],
   "source": [
    "y_test_pred = lr6.predict(X_test_new) "
   ]
  },
  {
   "cell_type": "code",
   "execution_count": 93,
   "metadata": {},
   "outputs": [
    {
     "data": {
      "text/plain": [
       "Text(0, 0.5, 'y_pred')"
      ]
     },
     "execution_count": 93,
     "metadata": {},
     "output_type": "execute_result"
    },
    {
     "data": {
      "image/png": "[encoded data removed]",
      "text/plain": [
       "<Figure size 432x288 with 1 Axes>"
      ]
     },
     "metadata": {},
     "output_type": "display_data"
    }
   ],
   "source": [
    "# Plotting y_test and y_pred to Analyze\n",
    "fig = plt.figure()\n",
    "plt.scatter(y_test,y_test_pred)\n",
    "plt.title('y_test vs y_pred', fontsize=20)\n",
    "plt.xlabel('y_test', fontsize=18)\n",
    "plt.ylabel('y_pred', fontsize=16)  \n",
    "# as you can see the data is spread evenly and increasing normally"
   ]
  },
  {
   "cell_type": "code",
   "execution_count": 96,
   "metadata": {},
   "outputs": [
    {
     "data": {
      "text/plain": [
       "0.7791945622246954"
      ]
     },
     "execution_count": 96,
     "metadata": {},
     "output_type": "execute_result"
    }
   ],
   "source": [
    "from sklearn.metrics import r2_score\n",
    "r2=r2_score(y_test, y_test_pred)\n",
    "r2\n",
    "# Calculating R^2 value"
   ]
  },
  {
   "cell_type": "code",
   "execution_count": 97,
   "metadata": {},
   "outputs": [
    {
     "data": {
      "text/plain": [
       "0.7479812280889193"
      ]
     },
     "execution_count": 97,
     "metadata": {},
     "output_type": "execute_result"
    }
   ],
   "source": [
    "# N is number of rows in X\n",
    "N = X_test.shape[0]\n",
    "# Number of features (predictors, p) is the shape along axis 1\n",
    "p = X_test.shape[1]\n",
    "# We find the Adjusted R-squared using the formula\n",
    "adjusted_r2 = 1-(1-r2)*(N-1)/(N-p-1)\n",
    "adjusted_r2"
   ]
  },
  {
   "cell_type": "markdown",
   "metadata": {},
   "source": [
    "# FINAL REPORT"
   ]
  },
  {
   "cell_type": "markdown",
   "metadata": {},
   "source": [
    "Test R^2 value = 0.780 \\\n",
    "Train R^2 value = 0.806 \\\n",
    "Adjusted test R^2 value = 0.748 \\\n",
    "Adjusted Train R^2 value = 0.803"
   ]
  },
  {
   "cell_type": "markdown",
   "metadata": {},
   "source": [
    "# IMPORTANT VARIABLES"
   ]
  },
  {
   "cell_type": "markdown",
   "metadata": {},
   "source": [
    "1) Temperature = it is the most important variable in the entire data set and it has a coefficient value of 0.5790 which says that a unit increase in temperature variable increases the bike sales by 0.5790 units. \\\n",
    "2) Year = year variable has seen a major increase from the year 2018 to 2019 in a major way and that too at  a rate of 0.2324 \\\n",
    "3) Summer, saturday, workingdays, Clear weather have a mild effect on the sales of the bikes"
   ]
  },
  {
   "cell_type": "markdown",
   "metadata": {},
   "source": [
    "# NEGATIVE EFFECT VARIABLES"
   ]
  },
  {
   "cell_type": "markdown",
   "metadata": {},
   "source": [
    "Windspeed effects the bikes sales by nearly 1.0 unit and Misty weather has also has an adverse effect on the Bike sales."
   ]
  },
  {
   "cell_type": "markdown",
   "metadata": {},
   "source": [
    "# ANALYSIS AND WHY DID WE DO IT"
   ]
  },
  {
   "cell_type": "markdown",
   "metadata": {},
   "source": [
    "1) It is important to use drop_first=True or dropping the first variable during dummy variable creation because during VIF(Variance Inflation Factor) will become infinity if we don't drop it. \n",
    "\n",
    "2) Looking at the pair-plot among the numerical variables, Actual Temperature , Temperature and Fall has the highest correlation with the target variable(Total_Count) . We dropped one among actaul temperature and temperature because they both are highly co related. \n",
    "\n",
    "3) the top 3 features contributing significantly towards explaining the demand of the shared bikes\\\n",
    "    a) Temperature \\\n",
    "    b) Year \\\n",
    "    c) Windspeed(negative effect) \\\n",
    "    d) Clear weather\n",
    "    \n",
    "4) We perform scaling on the variables that are required to get them into a uniform way [0,1] in normalization or min max scaling. where as standardization uses standard deviation. \n",
    "\n",
    "5) I have observed that sometimes the value of VIF is infinite because if we not drop one among the dummy values created we get this error.\n",
    "\n",
    "\n"
   ]
  }
 ],
 "metadata": {
  "interpreter": {
   "hash": "8562a35bdd4ee476ee56bd7a390acc8cc2b4bec674021a801a0923e4f15b959d"
  },
  "kernelspec": {
   "display_name": "Python 3 (ipykernel)",
   "language": "python",
   "name": "python3"
  },
  "language_info": {
   "codemirror_mode": {
    "name": "ipython",
    "version": 3
   },
   "file_extension": ".py",
   "mimetype": "text/x-python",
   "name": "python",
   "nbconvert_exporter": "python",
   "pygments_lexer": "ipython3",
   "version": "3.10.1"
  }
 },
 "nbformat": 4,
 "nbformat_minor": 2
}
